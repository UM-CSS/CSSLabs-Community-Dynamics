{
 "cells": [
  {
   "cell_type": "markdown",
   "metadata": {},
   "source": [
    "# Lab 1: The Evolution of Community Norms\n",
    "\n",
    "In this lab, we'll cover:\n",
    "- Changes in online communities over time\n",
    "- Changes in communities due to sudden events\n",
    "- Whether community change is driven by longtime users changing their behavior, or new users bringing new behaviors\n",
    "\n",
    "### Background Information\n",
    "- `r/TwoXChromosomes` is a feminist subreddit community that started in 2009. People interested in the topic found it by searching or following links that other people posted. (We'll abbreviate it as \"TwoX\" from now on.)\n",
    "- On May 7, 2014, it was made a \"default subreddit,\" which means that everyone who went to reddit.com saw a link to TwoXChromosomes on the front page. \n",
    "- A flood of new people clicked the link and went to the subreddit. They didn't know the community, and many of them didn't like feminism.\n",
    "- Users of anti-feminist subreddits, in particular, were angry that a feminist subreddit made the list of defaults. \n",
    "- This was a big contraversy, both within reddit and in broader newsmedia.\n",
    "    - For example: \"[Reddit women protest at new front-page position](https://www.theguardian.com/technology/2014/may/13/reddit-women-protest-front-page-subforum-subreddit-position)\"\n",
    "- In February 2017, the moderators of TwoX tried to decrease the hostility in their subreddit by banning all users who post in explicitly anti-feminist subreddits (e.g. r/pussypassdenied) from posting in TwoX.\n",
    "- We're going to investigate what happened using data from this subreddit."
   ]
  },
  {
   "cell_type": "code",
   "execution_count": null,
   "metadata": {},
   "outputs": [],
   "source": [
    "import pandas as pd\n",
    "from datetime import datetime\n",
    "import matplotlib.pyplot as plt\n",
    "\n",
    "%matplotlib inline"
   ]
  },
  {
   "cell_type": "markdown",
   "metadata": {},
   "source": [
    "## Data\n",
    "- Here we load the data and do a little cleaning up. \n",
    "- Don't worry about how the cleanup is done, just run the code and scroll down."
   ]
  },
  {
   "cell_type": "code",
   "execution_count": null,
   "metadata": {},
   "outputs": [],
   "source": [
    "twox_comments = pd.read_csv('data/merged/TwoXChromosomes.tsv', \n",
    "                            sep='\\t')\n",
    "#convert our dates to the date data type\n",
    "twox_comments['date'] = pd.to_datetime(twox_comments.date)\n",
    "twox_comments.shape"
   ]
  },
  {
   "cell_type": "code",
   "execution_count": null,
   "metadata": {},
   "outputs": [],
   "source": [
    "twox_comments.head()"
   ]
  },
  {
   "cell_type": "markdown",
   "metadata": {},
   "source": [
    "### Measuring activity over time\n",
    "- When TwoX was added to Reddit's front page, people say there was a surge of new users. \n",
    "- This code puts the comments into groups: one group for every month. Then it gets the count of comments and the count of people commenting in each month. Finally, it plots them for us to see how the level of activity changes over time. "
   ]
  },
  {
   "cell_type": "code",
   "execution_count": null,
   "metadata": {},
   "outputs": [],
   "source": [
    "#Group the comments by month\n",
    "monthly = twox_comments.resample('M', on='date')\n",
    "\n",
    "#count the number of comments in each group\n",
    "total_comments = monthly.body.count()\n",
    "\n",
    "#count the number of unique comment authors in each group\n",
    "active_users = monthly.author.nunique()\n",
    "\n",
    "#show first few months\n",
    "active_users.head()"
   ]
  },
  {
   "cell_type": "code",
   "execution_count": null,
   "metadata": {},
   "outputs": [],
   "source": [
    "total_comments.plot(title='Comments posted each month')"
   ]
  },
  {
   "cell_type": "code",
   "execution_count": null,
   "metadata": {},
   "outputs": [],
   "source": [
    "active_users.plot(title='# People active in r/TwoXChromosomes')"
   ]
  },
  {
   "cell_type": "markdown",
   "metadata": {},
   "source": [
    "### Notice anything?\n",
    "- There's a huge jump up in the number of comments and users in May 2014, when it was added to the front page. \n",
    "- There's a huge drop down in the number of comments and users in February 2017, when many users were banned.\n",
    "\n",
    "### Measuring overall conflict\n",
    "- If there is conflict among people in the subreddit, we might expect more posts to get deleted. \n",
    "- The first graph shows us the raw number of posts that are deleted. It looks a lot like the total number of posts, though. \n",
    "- The second graph shows us what percent of posts are deleted."
   ]
  },
  {
   "cell_type": "code",
   "execution_count": null,
   "metadata": {},
   "outputs": [],
   "source": [
    "#count the number of deleted or removed comments in each group\n",
    "deleted = monthly.body.apply(lambda x: x[(x=='[deleted]') | (x=='[removed]')].count())"
   ]
  },
  {
   "cell_type": "code",
   "execution_count": null,
   "metadata": {},
   "outputs": [],
   "source": [
    "deleted.plot(title='Number of posts deleted')"
   ]
  },
  {
   "cell_type": "code",
   "execution_count": null,
   "metadata": {},
   "outputs": [],
   "source": [
    "pct_deleted = (deleted / total_comments) * 100\n",
    "pct_deleted.plot(title='Percent of all comments deleted', ylim=(0,50), grid=True)"
   ]
  },
  {
   "cell_type": "markdown",
   "metadata": {},
   "source": [
    "#### A helper function for more complicated plots.\n",
    "Run this code and scroll down. Don't worry about how it works."
   ]
  },
  {
   "cell_type": "code",
   "execution_count": null,
   "metadata": {},
   "outputs": [],
   "source": [
    "def make_plot(grouped, columns, title=None, top=None, bottom=0, \n",
    "             events=None, years=None):\n",
    "    \n",
    "    fig, axs = plt.subplots(figsize=(14,10))\n",
    "    axs.set_ylim(bottom=bottom, top=top)\n",
    "    \n",
    "    if years is not None:\n",
    "        axs.set_xlim(left=datetime(year=years[0], month=1, day=1), \n",
    "                     right=datetime(year=years[1], month=1, day=1))\n",
    "                \n",
    "    if events is not None:\n",
    "        for e in events.iterrows():\n",
    "            if e[1].event == 1:\n",
    "                axs.axvline(e[1].date, color='k', alpha=.75)\n",
    "                \n",
    "    if isinstance(columns, str):\n",
    "        columns = [columns]\n",
    "        \n",
    "    for c in columns:\n",
    "        means = grouped[c].mean()\n",
    "        sems = grouped[c].sem()\n",
    "        axs.plot(means.index, means)\n",
    "        axs.fill_between(sems.index, means-(1.96*sems), \n",
    "                         means+(1.96*sems), alpha=0.55)\n",
    "\n",
    "    if title is None:\n",
    "        title = 'Average scores with 95% confidence interval'\n",
    "        \n",
    "    axs.set_title(title)\n",
    "    axs.legend()\n",
    "                \n",
    "    plt.show()\n",
    "    return\n",
    "\n",
    "events = [{'date': datetime(year=2014, month=5, day=7),\n",
    "          'event': 1,\n",
    "          'description': 'TwoX made default'},\n",
    "          {'date': datetime(year=2017, month=2, day=1),\n",
    "          'event': 1,\n",
    "          'description': 'TwoX bans anti-feminists'}]\n",
    "events = pd.DataFrame(events)"
   ]
  },
  {
   "cell_type": "code",
   "execution_count": null,
   "metadata": {},
   "outputs": [],
   "source": [
    "make_plot(monthly, columns=['OBSCENE', 'TOXICITY', 'ATTACK_ON_COMMENTER', \n",
    "                            'INFLAMMATORY', 'LIKELY_TO_REJECT'], \n",
    "          events=events, top=.55)"
   ]
  },
  {
   "cell_type": "code",
   "execution_count": null,
   "metadata": {},
   "outputs": [],
   "source": [
    "make_plot(monthly, columns=['sentiment', 'pej_nouns'], events=events, top=.2)"
   ]
  },
  {
   "cell_type": "code",
   "execution_count": null,
   "metadata": {},
   "outputs": [],
   "source": []
  }
 ],
 "metadata": {
  "kernelspec": {
   "display_name": "Python 3",
   "language": "python",
   "name": "python3"
  },
  "language_info": {
   "codemirror_mode": {
    "name": "ipython",
    "version": 3
   },
   "file_extension": ".py",
   "mimetype": "text/x-python",
   "name": "python",
   "nbconvert_exporter": "python",
   "pygments_lexer": "ipython3",
   "version": "3.6.4"
  }
 },
 "nbformat": 4,
 "nbformat_minor": 2
}
