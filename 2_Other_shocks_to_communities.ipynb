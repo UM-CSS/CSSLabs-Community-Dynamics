{
 "cells": [
  {
   "cell_type": "markdown",
   "metadata": {},
   "source": [
    "# Lab 2: Other shocks to communities\n",
    "\n",
    "- We saw in Lab 1 that the community r/TwoXChromosomes was dramatically changed when it was made a default subreddit.\n",
    "- In this lab, we look at other communities that were made default subreddits on the same day that TwoX was (May 7, 2014).\n",
    "- Pick one of the communities below to use for this lab.\n",
    "\n",
    "#### Communities made into default subreddits on May 7, 2014\n",
    "\n",
    "| Subreddit | N comments | Processed | Working\n",
    "| --- | ---:| --- | ---\n",
    "| funny |67,239,334|No |\n",
    "| pics |63,556,365|No |\n",
    "| gaming |44,516,437|No |\n",
    "| worldnews |39,636,199|No |\n",
    "| videos |36,535,462|No |\n",
    "| todayilearned |32,095,700|No |\n",
    "| news |28,629,460|No |\n",
    "| movies |22,180,508|No |\n",
    "| gifs |14,803,594|No |\n",
    "| aww |12,403,650|No |\n",
    "| Fitness | 9,757,307|No |\n",
    "| Showerthoughts | 9,747,251|Yes | good\n",
    "| TwoXChromosomes | 7,809,455|Yes | good\n",
    "| mildlyinteresting | 7,355,302|Yes | good\n",
    "| personalfinance | 6,613,244|Yes | good\n",
    "| tifu | 4,727,801|Yes | good\n",
    "| LifeProTips | 4,410,593|Yes | good\n",
    "| nottheonion | 4,129,381|Yes | good\n",
    "| askscience | 4,124,522|Yes | no effect?\n",
    "| food | 3,638,060|Yes | good\n",
    "| Jokes | 3,607,785|Yes | good\n",
    "| space | 2,771,349|Yes | no effect?\n",
    "| DIY | 2,543,822|Yes | good\n",
    "| dataisbeautiful | 2,329,279|Yes | good\n",
    "| photoshopbattles | 2,158,450|Yes | good\n",
    "| nosleep | 2,127,058|Yes | good\n",
    "| creepy | 2,043,946|Yes | good\n",
    "| Documentaries | 1,776,541|Yes | good \n",
    "| gadgets | 1,626,444|Yes | good\n",
    "| history | 1,618,372|Yes | good\n",
    "| Art | 1,508,349|Yes | good\n",
    "| philosophy | 1,461,466|Yes | good\n",
    "| GetMotivated | 1,371,786|Yes | good\n",
    "| UpliftingNews | 1,289,856|Yes | good\n",
    "| listentothis | 1,040,005|Yes | good\n",
    "| InternetIsBeautiful | 694,321|Yes | good\n",
    "| announcements | 540,792|Yes | good"
   ]
  },
  {
   "cell_type": "code",
   "execution_count": null,
   "metadata": {},
   "outputs": [],
   "source": [
    "import pandas as pd\n",
    "from datetime import datetime\n",
    "import matplotlib.pyplot as plt\n",
    "\n",
    "%matplotlib inline"
   ]
  },
  {
   "cell_type": "markdown",
   "metadata": {},
   "source": [
    "## Data\n",
    "- Here we load the data and do a little cleaning up. \n",
    "- Don't worry about how the cleanup is done, just run the code and scroll down."
   ]
  },
  {
   "cell_type": "code",
   "execution_count": null,
   "metadata": {},
   "outputs": [],
   "source": [
    "cols = ['date', 'author', 'controversiality', 'TOXICITY', \n",
    "        'ATTACK_ON_COMMENTER', 'INFLAMMATORY', 'LIKELY_TO_REJECT', \n",
    "        'OBSCENE', 'SEVERE_TOXICITY', 'ATTACK_ON_AUTHOR', 'SPAM', \n",
    "        'UNSUBSTANTIAL', 'INCOHERENT', 'ups', 'edited', 'id', \n",
    "        'is_submitter', 'parent_id', 'replies', 'score', \n",
    "        'subreddit', 'deleted', 'stickied', 'archived', 'collapsed',\n",
    "        #'body', 'politeness', 'sentiment', 'pej_nouns', \n",
    "       ]\n",
    "\n",
    "comments = pd.read_csv('data/merged/philosophy.tsv', \n",
    "                            sep='\\t', usecols=cols)\n",
    "#convert our dates to the date data type\n",
    "comments['date'] = pd.to_datetime(comments.date)\n",
    "comments.shape"
   ]
  },
  {
   "cell_type": "code",
   "execution_count": null,
   "metadata": {},
   "outputs": [],
   "source": [
    "comments.columns.values"
   ]
  },
  {
   "cell_type": "code",
   "execution_count": null,
   "metadata": {},
   "outputs": [],
   "source": [
    "comments.head()"
   ]
  },
  {
   "cell_type": "markdown",
   "metadata": {},
   "source": [
    "### Helper function for plotting\n",
    "Don't worry about what's in it, just run the code and scroll down."
   ]
  },
  {
   "cell_type": "code",
   "execution_count": null,
   "metadata": {},
   "outputs": [],
   "source": [
    "def make_plot(grouped, columns='id', title=None, top=None, bottom=None, \n",
    "             agg='mean', years=None, default_day=True):\n",
    "    \n",
    "    fig, axs = plt.subplots(figsize=(14,10))\n",
    "    if bottom is not None:\n",
    "        axs.set_ylim(bottom=bottom)\n",
    "    if top is not None:\n",
    "        axs.set_ylim(top=top)\n",
    "    \n",
    "    if years is not None:\n",
    "        axs.set_xlim(left=datetime(year=years[0], month=1, day=1), \n",
    "                     right=datetime(year=years[1], month=1, day=1))\n",
    "                \n",
    "    if default_day:\n",
    "        axs.axvline(datetime(year=2014, month=5, day=7), \n",
    "                    color='k', alpha=.75)\n",
    "                \n",
    "    if isinstance(columns, str):\n",
    "        columns = [columns]\n",
    "        \n",
    "    if agg == 'mean':\n",
    "        for c in columns:\n",
    "            means = grouped[c].mean()\n",
    "            sems = grouped[c].sem()\n",
    "            axs.plot(means.index, means)\n",
    "            axs.fill_between(sems.index, means-(1.96*sems), \n",
    "                             means+(1.96*sems), alpha=0.5)\n",
    "        if title is None:\n",
    "            title = 'Average scores with 95% confidence interval'\n",
    "    elif agg == 'count':\n",
    "        for c in columns:\n",
    "            counts = grouped[c].count()\n",
    "            axs.plot(counts)\n",
    "        if title is None:\n",
    "            title = 'Number of comments per month'\n",
    "    elif agg == 'unique':\n",
    "        for c in columns:\n",
    "            counts = grouped[c].nunique()\n",
    "            axs.plot(counts)\n",
    "        if title is None:\n",
    "            title = 'Number of unique ___ per month'\n",
    "    axs.set_title(title)\n",
    "    axs.legend()\n",
    "                \n",
    "    plt.show()\n",
    "    return"
   ]
  },
  {
   "cell_type": "markdown",
   "metadata": {},
   "source": [
    "### Measuring activity over time\n",
    "- This code puts the comments into groups: one group for every month. Then it gets the count of comments and the count of people commenting in each month. Finally, it plots them for us to see how the level of activity changes over time. "
   ]
  },
  {
   "cell_type": "code",
   "execution_count": null,
   "metadata": {},
   "outputs": [],
   "source": [
    "#Group the comments by month\n",
    "monthly = comments.resample('M', on='date')"
   ]
  },
  {
   "cell_type": "code",
   "execution_count": null,
   "metadata": {},
   "outputs": [],
   "source": [
    "make_plot(monthly, agg='count')"
   ]
  },
  {
   "cell_type": "code",
   "execution_count": null,
   "metadata": {},
   "outputs": [],
   "source": [
    "make_plot(monthly, columns='author', agg='unique')"
   ]
  },
  {
   "cell_type": "markdown",
   "metadata": {},
   "source": [
    "### Notice anything?\n",
    "- As we expected, there's a jump up in the number of comments and users in May 2014, when it was added to the front page. \n",
    "\n",
    "### Measuring overall conflict\n",
    "- If there is conflict among people in the subreddit, we might expect more posts to get deleted. \n",
    "- The first graph shows us the raw number of posts that are deleted. It looks a lot like the total number of posts, though. \n",
    "- The second graph shows us what percent of posts are deleted."
   ]
  },
  {
   "cell_type": "code",
   "execution_count": null,
   "metadata": {},
   "outputs": [],
   "source": [
    "make_plot(monthly, columns='deleted', agg='count')"
   ]
  },
  {
   "cell_type": "code",
   "execution_count": null,
   "metadata": {},
   "outputs": [],
   "source": [
    "make_plot(monthly, columns='deleted', agg='mean', top=.4)#, bottom=0)"
   ]
  },
  {
   "cell_type": "code",
   "execution_count": null,
   "metadata": {},
   "outputs": [],
   "source": [
    "make_plot(monthly, columns=['OBSCENE', 'TOXICITY', \n",
    "                            'ATTACK_ON_COMMENTER', \n",
    "                            'INFLAMMATORY', 'LIKELY_TO_REJECT'], \n",
    "          years=[2013,2015]\n",
    "          )"
   ]
  },
  {
   "cell_type": "code",
   "execution_count": null,
   "metadata": {},
   "outputs": [],
   "source": []
  },
  {
   "cell_type": "markdown",
   "metadata": {},
   "source": [
    "what is the lit here\n",
    "    whats an online comm, how diff from offline\n",
    "        what are their specific challenges\n",
    "    assigned reading -> guide lab\n",
    "    \n",
    "    \n",
    "compare new vs existing users\n",
    "    "
   ]
  },
  {
   "cell_type": "code",
   "execution_count": null,
   "metadata": {},
   "outputs": [],
   "source": []
  }
 ],
 "metadata": {
  "kernelspec": {
   "display_name": "Python 3",
   "language": "python",
   "name": "python3"
  },
  "language_info": {
   "codemirror_mode": {
    "name": "ipython",
    "version": 3
   },
   "file_extension": ".py",
   "mimetype": "text/x-python",
   "name": "python",
   "nbconvert_exporter": "python",
   "pygments_lexer": "ipython3",
   "version": "3.6.4"
  }
 },
 "nbformat": 4,
 "nbformat_minor": 2
}
