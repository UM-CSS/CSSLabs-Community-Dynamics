{
 "cells": [
  {
   "cell_type": "code",
   "execution_count": 28,
   "metadata": {},
   "outputs": [],
   "source": [
    "import pandas as pd\n",
    "import numpy as np\n",
    "import os"
   ]
  },
  {
   "cell_type": "code",
   "execution_count": 29,
   "metadata": {},
   "outputs": [
    {
     "data": {
      "text/plain": [
       "{'CatGifs.tsv',\n",
       " 'CatsStandingUp.tsv',\n",
       " 'Dogtraining.tsv',\n",
       " 'FULLCOMMUNISM.tsv',\n",
       " 'GreenParty.tsv',\n",
       " 'Liberal.tsv',\n",
       " 'Libertarian_short.tsv',\n",
       " 'NeutralPolitics.tsv',\n",
       " 'OSU.tsv',\n",
       " 'Republican.tsv',\n",
       " 'StartledCats.tsv',\n",
       " 'TrollXChromosomes_short.tsv',\n",
       " 'TwoXChromosomes_short.tsv',\n",
       " 'cats.tsv',\n",
       " 'communism.tsv',\n",
       " 'democrats.tsv',\n",
       " 'demsocialist.tsv',\n",
       " 'dogpictures.tsv',\n",
       " 'dogs_short.tsv',\n",
       " 'msu.tsv',\n",
       " 'progressive.tsv',\n",
       " 'puppies.tsv',\n",
       " 'republicans.tsv',\n",
       " 'socialism.tsv',\n",
       " 'socialism_short.tsv',\n",
       " 'uofm.tsv'}"
      ]
     },
     "execution_count": 29,
     "metadata": {},
     "output_type": "execute_result"
    }
   ],
   "source": [
    "perspective_files = os.listdir('data/perspective/')\n",
    "politeness_files = os.listdir('data/politeness/')\n",
    "sentiment_files = os.listdir('data/sentiment/')\n",
    "\n",
    "all_files = set(perspective_files + politeness_files)\n",
    "all_files"
   ]
  },
  {
   "cell_type": "code",
   "execution_count": 30,
   "metadata": {},
   "outputs": [
    {
     "data": {
      "text/plain": [
       "{'CatGifs.tsv': ['data/perspective/', 'data/politeness/', 'data/sentiment/'],\n",
       " 'CatsStandingUp.tsv': ['data/perspective/', 'data/politeness/'],\n",
       " 'Dogtraining.tsv': ['data/perspective/'],\n",
       " 'FULLCOMMUNISM.tsv': ['data/perspective/'],\n",
       " 'GreenParty.tsv': ['data/perspective/',\n",
       "  'data/politeness/',\n",
       "  'data/sentiment/'],\n",
       " 'Liberal.tsv': ['data/perspective/', 'data/politeness/'],\n",
       " 'Libertarian_short.tsv': ['data/perspective/', 'data/politeness/'],\n",
       " 'NeutralPolitics.tsv': ['data/perspective/'],\n",
       " 'OSU.tsv': ['data/perspective/', 'data/politeness/'],\n",
       " 'Republican.tsv': ['data/perspective/'],\n",
       " 'StartledCats.tsv': ['data/perspective/',\n",
       "  'data/politeness/',\n",
       "  'data/sentiment/'],\n",
       " 'TrollXChromosomes_short.tsv': ['data/perspective/', 'data/politeness/'],\n",
       " 'TwoXChromosomes_short.tsv': ['data/perspective/', 'data/politeness/'],\n",
       " 'cats.tsv': ['data/perspective/', 'data/politeness/', 'data/sentiment/'],\n",
       " 'communism.tsv': ['data/perspective/', 'data/politeness/'],\n",
       " 'democrats.tsv': ['data/perspective/', 'data/politeness/'],\n",
       " 'demsocialist.tsv': ['data/perspective/',\n",
       "  'data/politeness/',\n",
       "  'data/sentiment/'],\n",
       " 'dogpictures.tsv': ['data/perspective/', 'data/politeness/'],\n",
       " 'dogs_short.tsv': ['data/perspective/', 'data/politeness/'],\n",
       " 'msu.tsv': ['data/perspective/', 'data/politeness/', 'data/sentiment/'],\n",
       " 'progressive.tsv': ['data/perspective/', 'data/politeness/'],\n",
       " 'puppies.tsv': ['data/perspective/', 'data/politeness/', 'data/sentiment/'],\n",
       " 'republicans.tsv': ['data/perspective/',\n",
       "  'data/politeness/',\n",
       "  'data/sentiment/'],\n",
       " 'socialism.tsv': ['data/perspective/'],\n",
       " 'socialism_short.tsv': ['data/perspective/', 'data/politeness/'],\n",
       " 'uofm.tsv': ['data/perspective/', 'data/politeness/', 'data/sentiment/']}"
      ]
     },
     "execution_count": 30,
     "metadata": {},
     "output_type": "execute_result"
    }
   ],
   "source": [
    "to_merge = {}\n",
    "\n",
    "for f in all_files:\n",
    "    if f.endswith('.tsv'):\n",
    "        tmp = []\n",
    "        if f in perspective_files:\n",
    "            tmp.append('data/perspective/')\n",
    "        if f in politeness_files:\n",
    "            tmp.append('data/politeness/')\n",
    "        if f in sentiment_files:\n",
    "            tmp.append('data/sentiment/')\n",
    "        to_merge[f] = tmp\n",
    "to_merge"
   ]
  },
  {
   "cell_type": "code",
   "execution_count": 31,
   "metadata": {},
   "outputs": [
    {
     "data": {
      "text/plain": [
       "array(['approved_at_utc', 'approved_by', 'archived', 'author',\n",
       "       'author_cakeday', 'author_flair_css_class', 'author_flair_text',\n",
       "       'banned_at_utc', 'banned_by', 'body', 'can_gild', 'can_mod_post',\n",
       "       'collapsed', 'collapsed_reason', 'controversiality', 'created',\n",
       "       'created_utc', 'distinguished', 'downs', 'edited', 'gilded', 'id',\n",
       "       'is_submitter', 'likes', 'link_id', 'name', 'num_reports',\n",
       "       'parent_id', 'removal_reason', 'replies', 'report_reasons',\n",
       "       'retrieved_on', 'saved', 'score', 'score_hidden', 'stickied',\n",
       "       'subreddit', 'subreddit_id', 'ups', 'politeness'], dtype=object)"
      ]
     },
     "execution_count": 31,
     "metadata": {},
     "output_type": "execute_result"
    }
   ],
   "source": [
    "tmp = pd.read_csv('data/politeness/CatGifs.tsv', sep='\\t')\n",
    "tmp.columns.values"
   ]
  },
  {
   "cell_type": "code",
   "execution_count": 32,
   "metadata": {},
   "outputs": [
    {
     "name": "stdout",
     "output_type": "stream",
     "text": [
      "demsocialist.tsv\n",
      "puppies.tsv\n",
      "progressive.tsv\n"
     ]
    },
    {
     "name": "stderr",
     "output_type": "stream",
     "text": [
      "/home/jwlock/anaconda3/lib/python3.6/site-packages/IPython/core/interactiveshell.py:2728: DtypeWarning: Columns (5,7,33) have mixed types. Specify dtype option on import or set low_memory=False.\n",
      "  interactivity=interactivity, compiler=compiler, result=result)\n",
      "/home/jwlock/anaconda3/lib/python3.6/site-packages/IPython/core/interactiveshell.py:2728: DtypeWarning: Columns (4,6,32) have mixed types. Specify dtype option on import or set low_memory=False.\n",
      "  interactivity=interactivity, compiler=compiler, result=result)\n"
     ]
    },
    {
     "name": "stdout",
     "output_type": "stream",
     "text": [
      "dogpictures.tsv\n"
     ]
    },
    {
     "name": "stderr",
     "output_type": "stream",
     "text": [
      "/home/jwlock/anaconda3/lib/python3.6/site-packages/IPython/core/interactiveshell.py:2728: DtypeWarning: Columns (7,33) have mixed types. Specify dtype option on import or set low_memory=False.\n",
      "  interactivity=interactivity, compiler=compiler, result=result)\n",
      "/home/jwlock/anaconda3/lib/python3.6/site-packages/IPython/core/interactiveshell.py:2728: DtypeWarning: Columns (6,32) have mixed types. Specify dtype option on import or set low_memory=False.\n",
      "  interactivity=interactivity, compiler=compiler, result=result)\n"
     ]
    },
    {
     "name": "stdout",
     "output_type": "stream",
     "text": [
      "Liberal.tsv\n"
     ]
    },
    {
     "name": "stderr",
     "output_type": "stream",
     "text": [
      "/home/jwlock/anaconda3/lib/python3.6/site-packages/IPython/core/interactiveshell.py:2728: DtypeWarning: Columns (33) have mixed types. Specify dtype option on import or set low_memory=False.\n",
      "  interactivity=interactivity, compiler=compiler, result=result)\n",
      "/home/jwlock/anaconda3/lib/python3.6/site-packages/IPython/core/interactiveshell.py:2728: DtypeWarning: Columns (32) have mixed types. Specify dtype option on import or set low_memory=False.\n",
      "  interactivity=interactivity, compiler=compiler, result=result)\n"
     ]
    },
    {
     "name": "stdout",
     "output_type": "stream",
     "text": [
      "msu.tsv\n"
     ]
    },
    {
     "name": "stderr",
     "output_type": "stream",
     "text": [
      "/home/jwlock/anaconda3/lib/python3.6/site-packages/IPython/core/interactiveshell.py:2728: DtypeWarning: Columns (5,18,33) have mixed types. Specify dtype option on import or set low_memory=False.\n",
      "  interactivity=interactivity, compiler=compiler, result=result)\n",
      "/home/jwlock/anaconda3/lib/python3.6/site-packages/IPython/core/interactiveshell.py:2728: DtypeWarning: Columns (4,17,32) have mixed types. Specify dtype option on import or set low_memory=False.\n",
      "  interactivity=interactivity, compiler=compiler, result=result)\n"
     ]
    },
    {
     "name": "stdout",
     "output_type": "stream",
     "text": [
      "communism.tsv\n",
      "socialism.tsv\n"
     ]
    },
    {
     "name": "stderr",
     "output_type": "stream",
     "text": [
      "/home/jwlock/anaconda3/lib/python3.6/site-packages/IPython/core/interactiveshell.py:2728: DtypeWarning: Columns (5,12,33) have mixed types. Specify dtype option on import or set low_memory=False.\n",
      "  interactivity=interactivity, compiler=compiler, result=result)\n"
     ]
    },
    {
     "name": "stdout",
     "output_type": "stream",
     "text": [
      "FULLCOMMUNISM.tsv\n",
      "democrats.tsv\n",
      "cats.tsv\n",
      "CatGifs.tsv\n",
      "NeutralPolitics.tsv\n",
      "republicans.tsv\n",
      "Dogtraining.tsv\n",
      "TrollXChromosomes_short.tsv\n"
     ]
    },
    {
     "name": "stderr",
     "output_type": "stream",
     "text": [
      "/home/jwlock/anaconda3/lib/python3.6/site-packages/IPython/core/interactiveshell.py:2728: DtypeWarning: Columns (3,5,11,12,13,14,18,23,26,33,35,36) have mixed types. Specify dtype option on import or set low_memory=False.\n",
      "  interactivity=interactivity, compiler=compiler, result=result)\n",
      "/home/jwlock/anaconda3/lib/python3.6/site-packages/IPython/core/interactiveshell.py:2728: DtypeWarning: Columns (2,4,10,11,12,13,17,22,25,32,34,35) have mixed types. Specify dtype option on import or set low_memory=False.\n",
      "  interactivity=interactivity, compiler=compiler, result=result)\n"
     ]
    },
    {
     "name": "stdout",
     "output_type": "stream",
     "text": [
      "OSU.tsv\n",
      "CatsStandingUp.tsv\n"
     ]
    },
    {
     "name": "stderr",
     "output_type": "stream",
     "text": [
      "/home/jwlock/anaconda3/lib/python3.6/site-packages/IPython/core/interactiveshell.py:2728: DtypeWarning: Columns (6,7,33) have mixed types. Specify dtype option on import or set low_memory=False.\n",
      "  interactivity=interactivity, compiler=compiler, result=result)\n",
      "/home/jwlock/anaconda3/lib/python3.6/site-packages/IPython/core/interactiveshell.py:2728: DtypeWarning: Columns (5,6,32) have mixed types. Specify dtype option on import or set low_memory=False.\n",
      "  interactivity=interactivity, compiler=compiler, result=result)\n"
     ]
    },
    {
     "name": "stdout",
     "output_type": "stream",
     "text": [
      "uofm.tsv\n"
     ]
    },
    {
     "name": "stderr",
     "output_type": "stream",
     "text": [
      "/home/jwlock/anaconda3/lib/python3.6/site-packages/IPython/core/interactiveshell.py:2728: DtypeWarning: Columns (5,12,14,18,33) have mixed types. Specify dtype option on import or set low_memory=False.\n",
      "  interactivity=interactivity, compiler=compiler, result=result)\n",
      "/home/jwlock/anaconda3/lib/python3.6/site-packages/IPython/core/interactiveshell.py:2728: DtypeWarning: Columns (4,11,13,17,32) have mixed types. Specify dtype option on import or set low_memory=False.\n",
      "  interactivity=interactivity, compiler=compiler, result=result)\n"
     ]
    },
    {
     "name": "stdout",
     "output_type": "stream",
     "text": [
      "Libertarian_short.tsv\n"
     ]
    },
    {
     "name": "stderr",
     "output_type": "stream",
     "text": [
      "/home/jwlock/anaconda3/lib/python3.6/site-packages/IPython/core/interactiveshell.py:2728: DtypeWarning: Columns (3,5,6,11,12,13,14,18,23,26,33,35,36) have mixed types. Specify dtype option on import or set low_memory=False.\n",
      "  interactivity=interactivity, compiler=compiler, result=result)\n",
      "/home/jwlock/anaconda3/lib/python3.6/site-packages/IPython/core/interactiveshell.py:2728: DtypeWarning: Columns (2,4,5,10,11,12,13,17,22,25,32,34,35) have mixed types. Specify dtype option on import or set low_memory=False.\n",
      "  interactivity=interactivity, compiler=compiler, result=result)\n"
     ]
    },
    {
     "name": "stdout",
     "output_type": "stream",
     "text": [
      "StartledCats.tsv\n",
      "dogs_short.tsv\n",
      "TwoXChromosomes_short.tsv\n"
     ]
    },
    {
     "name": "stderr",
     "output_type": "stream",
     "text": [
      "/home/jwlock/anaconda3/lib/python3.6/site-packages/IPython/core/interactiveshell.py:2728: DtypeWarning: Columns (3,5,6,7,11,12,13,14,23,26,33,35,36) have mixed types. Specify dtype option on import or set low_memory=False.\n",
      "  interactivity=interactivity, compiler=compiler, result=result)\n",
      "/home/jwlock/anaconda3/lib/python3.6/site-packages/IPython/core/interactiveshell.py:2728: DtypeWarning: Columns (2,4,5,6,10,11,12,13,22,25,32,34,35) have mixed types. Specify dtype option on import or set low_memory=False.\n",
      "  interactivity=interactivity, compiler=compiler, result=result)\n"
     ]
    },
    {
     "name": "stdout",
     "output_type": "stream",
     "text": [
      "GreenParty.tsv\n",
      "Republican.tsv\n"
     ]
    },
    {
     "name": "stderr",
     "output_type": "stream",
     "text": [
      "/home/jwlock/anaconda3/lib/python3.6/site-packages/IPython/core/interactiveshell.py:2728: DtypeWarning: Columns (5,6,33) have mixed types. Specify dtype option on import or set low_memory=False.\n",
      "  interactivity=interactivity, compiler=compiler, result=result)\n"
     ]
    },
    {
     "name": "stdout",
     "output_type": "stream",
     "text": [
      "socialism_short.tsv\n"
     ]
    }
   ],
   "source": [
    "for k,v in to_merge.items():\n",
    "    print(k)\n",
    "    df = pd.DataFrame()\n",
    "    for p in v:\n",
    "        tmp = pd.read_csv(p+k, sep='\\t')\n",
    "        if df.shape[1]==0:\n",
    "            df=tmp\n",
    "        else:\n",
    "            keep = list(set(tmp.columns.values) - set(df.columns.values))\n",
    "            keep.append('id')\n",
    "            tmp = tmp[keep]\n",
    "            df = df.merge(tmp, on='id')\n",
    "    df.to_csv('data/merged/'+k, sep='\\t', index=False)\n",
    "    "
   ]
  },
  {
   "cell_type": "code",
   "execution_count": 33,
   "metadata": {},
   "outputs": [
    {
     "name": "stdout",
     "output_type": "stream",
     "text": [
      "done!\n"
     ]
    }
   ],
   "source": [
    "print('done!')"
   ]
  },
  {
   "cell_type": "code",
   "execution_count": null,
   "metadata": {},
   "outputs": [],
   "source": []
  }
 ],
 "metadata": {
  "kernelspec": {
   "display_name": "Python 3",
   "language": "python",
   "name": "python3"
  },
  "language_info": {
   "codemirror_mode": {
    "name": "ipython",
    "version": 3
   },
   "file_extension": ".py",
   "mimetype": "text/x-python",
   "name": "python",
   "nbconvert_exporter": "python",
   "pygments_lexer": "ipython3",
   "version": "3.6.4"
  }
 },
 "nbformat": 4,
 "nbformat_minor": 2
}
