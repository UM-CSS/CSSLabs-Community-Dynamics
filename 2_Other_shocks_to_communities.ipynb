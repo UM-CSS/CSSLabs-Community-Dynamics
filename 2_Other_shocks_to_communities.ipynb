{
 "cells": [
  {
   "cell_type": "markdown",
   "metadata": {},
   "source": [
    "# Lab 2: Other shocks to communities\n",
    "\n",
    "- We saw in Lab 1 that the community r/TwoXChromosomes was dramatically changed when it was made a default subreddit.\n",
    "- In this lab, we look at other communities that were made default subreddits on the same day that TwoX was (May 7, 2014).\n",
    "- Pick one of the communities below to use for this lab.\n",
    "\n",
    "#### Communities made into default subreddits on May 7, 2014\n",
    "\n",
    "| Subreddit | N comments | Operational | Interesting\n",
    "| --- | ---:| --- | ---\n",
    "| funny |67,239,334|No |\n",
    "| pics |63,556,365|No |\n",
    "| gaming |44,516,437|No |\n",
    "| worldnews |39,636,199|No |\n",
    "| videos |36,535,462|No |\n",
    "| todayilearned |32,095,700|No |\n",
    "| news |28,629,460|No |\n",
    "| movies |22,180,508|No |\n",
    "| gifs |14,803,594|No |\n",
    "| aww |12,403,650|No |\n",
    "| Fitness | 9,757,307|No |\n",
    "| Showerthoughts | 9,747,251|Yes | mild\n",
    "| TwoXChromosomes | 7,809,455|Yes | yes!\n",
    "| mildlyinteresting | 7,355,302|Yes | yes\n",
    "| personalfinance | 6,613,244|Yes | yes (odd)\n",
    "| tifu | 4,727,801|Yes | yes\n",
    "| LifeProTips | 4,410,593|Yes | yes (drift)\n",
    "| nottheonion | 4,129,381|Yes | yes\n",
    "| food | 3,638,060|Yes | barely\n",
    "| Jokes | 3,607,785|Yes | barely\n",
    "| DIY | 2,543,822|Yes | yes (drift)\n",
    "| dataisbeautiful | 2,329,279|Yes | yes\n",
    "| photoshopbattles | 2,158,450|Yes | yes!\n",
    "| nosleep | 2,127,058|Yes | mild\n",
    "| creepy | 2,043,946|Yes | mixed\n",
    "| Documentaries | 1,776,541|Yes | yes!\n",
    "| gadgets | 1,626,444|Yes | yes\n",
    "| history | 1,618,372|Yes | mixed\n",
    "| Art | 1,508,349|Yes | yes\n",
    "| philosophy | 1,461,466|Yes | mild\n",
    "| GetMotivated | 1,371,786|Yes | yes (reverse trends)\n",
    "| UpliftingNews | 1,289,856|Yes | mild\n",
    "| listentothis | 1,040,005|Yes | yes\n",
    "| InternetIsBeautiful | 694,321|Yes | barely\n",
    "| announcements | 540,792|Yes | no"
   ]
  },
  {
   "cell_type": "code",
   "execution_count": null,
   "metadata": {},
   "outputs": [],
   "source": [
    "import pandas as pd\n",
    "import numpy as np\n",
    "from datetime import datetime, timedelta\n",
    "import matplotlib.pyplot as plt\n",
    "\n",
    "%matplotlib inline"
   ]
  },
  {
   "cell_type": "markdown",
   "metadata": {},
   "source": [
    "## Data\n",
    "- Here we load the data and do a little cleaning up. \n",
    "- Don't worry about how the cleanup is done, just run the code and scroll down."
   ]
  },
  {
   "cell_type": "code",
   "execution_count": null,
   "metadata": {},
   "outputs": [],
   "source": [
    "cols = ['date', 'author', 'TOXICITY', 'id', 'subreddit', 'deleted',\n",
    "        'ATTACK_ON_COMMENTER', 'INFLAMMATORY', 'LIKELY_TO_REJECT', \n",
    "        'OBSCENE', 'SEVERE_TOXICITY', 'ATTACK_ON_AUTHOR', 'SPAM', \n",
    "        'UNSUBSTANTIAL', 'INCOHERENT', 'sentiment', #'ups', 'edited', \n",
    "        #'is_submitter', 'parent_id', 'replies', 'score', \n",
    "        # 'stickied', 'archived', 'collapsed', 'controversiality', \n",
    "        #'body', 'politeness', 'sentiment', 'pej_nouns', \n",
    "       ]\n",
    "\n",
    "comments = pd.read_csv('data/merged/gadgets.tsv', \n",
    "                       sep='\\t', usecols=cols)\n",
    "#convert our dates to the date data type\n",
    "comments['date'] = pd.to_datetime(comments.date)\n",
    "comments.shape"
   ]
  },
  {
   "cell_type": "code",
   "execution_count": null,
   "metadata": {},
   "outputs": [],
   "source": [
    "#select a smaller subset of the data for laptop memory limits\n",
    "start = datetime(year=2012, month=1, day=1)\n",
    "end = datetime(year=2016, month=1, day=1)\n",
    "comments = comments[comments.date >= start]\n",
    "comments = comments[comments.date <= end]"
   ]
  },
  {
   "cell_type": "markdown",
   "metadata": {},
   "source": [
    "### Peaking at our data"
   ]
  },
  {
   "cell_type": "code",
   "execution_count": null,
   "metadata": {},
   "outputs": [],
   "source": [
    "comments.columns.values"
   ]
  },
  {
   "cell_type": "code",
   "execution_count": null,
   "metadata": {},
   "outputs": [],
   "source": [
    "comments.head()"
   ]
  },
  {
   "cell_type": "markdown",
   "metadata": {},
   "source": [
    "### Helper function for plotting\n",
    "Don't worry about what's in it, just run the code and scroll down."
   ]
  },
  {
   "cell_type": "code",
   "execution_count": null,
   "metadata": {},
   "outputs": [],
   "source": [
    "def make_plot(grouped, columns='id', title=None, top=None, bottom=None, \n",
    "             events=None, agg='mean', years=[2012,2016]):\n",
    "    \n",
    "    fig, axs = plt.subplots(figsize=(14,10))\n",
    "    if bottom is not None:\n",
    "        axs.set_ylim(bottom=bottom)\n",
    "        \n",
    "    if top is not None:\n",
    "        axs.set_ylim(top=top)\n",
    "\n",
    "    if years is not None:\n",
    "        start = datetime(year=years[0], month=1, day=1)\n",
    "        end = datetime(year=years[1], month=1, day=1)\n",
    "        axs.set_xlim(left=start, right=end)\n",
    "\n",
    "    if isinstance(columns, str):\n",
    "        columns = [columns]\n",
    "        \n",
    "    if agg == 'mean':\n",
    "        for c in columns:\n",
    "            means = grouped[c].mean()\n",
    "            sems = grouped[c].sem()\n",
    "            axs.plot(means.index, means)\n",
    "            axs.fill_between(sems.index, means-(1.96*sems), \n",
    "                             means+(1.96*sems), alpha=0.5)\n",
    "        if title is None:\n",
    "            title = 'Average scores with 95% confidence interval'\n",
    "    elif agg == 'count':\n",
    "        for c in columns:\n",
    "            counts = grouped.count()[c]\n",
    "            axs.plot(counts)\n",
    "        if title is None:\n",
    "            title = 'Number of comments per month'\n",
    "    elif agg == 'unique':\n",
    "        for c in columns:\n",
    "            counts = grouped[c].nunique()\n",
    "            axs.plot(counts)\n",
    "        if title is None:\n",
    "            title = 'Number of unique ___ per month'\n",
    "            \n",
    "    if events is not None:\n",
    "        if years is not None:\n",
    "            events = events[events.date >= start]\n",
    "            events = events[events.date <= end]\n",
    "        for e in events.iterrows():\n",
    "            if e[1].event == 1:\n",
    "                axs.axvline(e[1].date, color='k', linestyle='dashed', \n",
    "                            alpha=.5)\n",
    "                spot = axs.get_ylim()[1] - axs.get_ylim()[0]\n",
    "                spot *= .1 \n",
    "                spot += axs.get_ylim()[0]\n",
    "                axs.text(e[1].date, spot, e[1].description)            \n",
    "            \n",
    "    axs.set_title(title)\n",
    "    \n",
    "    if len(columns) == 1:\n",
    "        axs.set_ylabel(columns[0])\n",
    "    else:\n",
    "        axs.legend()\n",
    "                \n",
    "    plt.show()\n",
    "    return\n",
    "\n",
    "events = [{'date': datetime(year=2014, month=5, day=7),\n",
    "          'event': 1,\n",
    "          'description': 'Default Day'}]\n",
    "events = pd.DataFrame(events)"
   ]
  },
  {
   "cell_type": "markdown",
   "metadata": {},
   "source": [
    "### Measuring activity over time\n",
    "- This code puts the comments into groups: one group for every month. Then it gets the count of comments and the count of people commenting in each month. Finally, it plots them for us to see how the level of activity changes over time. "
   ]
  },
  {
   "cell_type": "code",
   "execution_count": null,
   "metadata": {},
   "outputs": [],
   "source": [
    "#Group the comments by month\n",
    "monthly = comments.resample('M', on='date')"
   ]
  },
  {
   "cell_type": "code",
   "execution_count": null,
   "metadata": {},
   "outputs": [],
   "source": [
    "make_plot(monthly, agg='count', events=events)"
   ]
  },
  {
   "cell_type": "code",
   "execution_count": null,
   "metadata": {},
   "outputs": [],
   "source": [
    "make_plot(monthly, columns='author', agg='unique', events=events)"
   ]
  },
  {
   "cell_type": "markdown",
   "metadata": {},
   "source": [
    "### Notice anything?\n",
    "- As we expected, there's a jump up in the number of comments and users in May 2014, when it was added to the front page. \n",
    "\n",
    "### Measuring overall conflict\n",
    "- If there is conflict among people in the subreddit, we might expect more posts to get deleted. \n",
    "- The first graph shows us the raw number of posts that are deleted. It looks a lot like the total number of posts, though. \n",
    "- The second graph shows us what percent of posts are deleted."
   ]
  },
  {
   "cell_type": "code",
   "execution_count": null,
   "metadata": {},
   "outputs": [],
   "source": [
    "make_plot(monthly, columns='deleted', \n",
    "          title=\"Percent of comments deleted\",\n",
    "          events=events)"
   ]
  },
  {
   "cell_type": "code",
   "execution_count": null,
   "metadata": {},
   "outputs": [],
   "source": [
    "make_plot(monthly, columns=['OBSCENE', 'TOXICITY', \n",
    "                            'ATTACK_ON_COMMENTER', \n",
    "                            'INFLAMMATORY'], \n",
    "          events=events)"
   ]
  },
  {
   "cell_type": "code",
   "execution_count": null,
   "metadata": {},
   "outputs": [],
   "source": [
    "make_plot(monthly, columns=['sentiment'], \n",
    "          events=events)"
   ]
  },
  {
   "cell_type": "markdown",
   "metadata": {},
   "source": [
    "## Who is driving the change?\n",
    "- We saw above that the community changed dramatically after it became a default community. But that leaves open questions:\n",
    "    - Did everyone start behaving differently after default day?\n",
    "    - Is the change because there are so many *new* people?\n",
    "    - Is the change because the new people are new, or do they stay different even once they're established? \n",
    "    - Does it matter what other communities a user is in if we want to know their behavior here?\n",
    "- Next we're going to compare users who joined before default day with those who joined after it.\n",
    "- Before running the code below, answer these questions:\n",
    "    - Do you think the overall change is because a different kind of user started joining after the community was made a default? \n",
    "    - What ways might users who joined a default community be different in our measures of comment civility than the users who joined when it was  more niche community?\n",
    "\n",
    "The code below labels users based on when they joined the community.\n",
    "- Don't worry about how the code in this cell works, just run it and scroll down."
   ]
  },
  {
   "cell_type": "code",
   "execution_count": null,
   "metadata": {},
   "outputs": [],
   "source": [
    "users = {}\n",
    "groups = [{'name': 'before', 'direction': 'lt',\n",
    "           'date': datetime(year=2014, month=5, day=7)},\n",
    "          {'name': 'after', 'direction': 'gt',\n",
    "           'date': datetime(year=2014, month=5, day=7)}]\n",
    "\n",
    "#select people who only posted one comment ever\n",
    "tmp = comments.groupby(by='author').count()\n",
    "users['once'] = set(tmp[tmp.id == 1].index.values)\n",
    "del tmp\n",
    "\n",
    "#select all other people, \n",
    "firsts = comments[~comments.author.isin(users['once']\n",
    "                                                 )][['author',\n",
    "                                                     'date']]\n",
    "#figure out their first post date\n",
    "firsts.sort_values(by='date', inplace=True)\n",
    "firsts.drop_duplicates(subset='author', keep='first', inplace=True)\n",
    "\n",
    "#select the users in each group\n",
    "for g in groups:\n",
    "    if g['direction'] == 'lt':\n",
    "        users[g['name']] = set(firsts[firsts.date < g['date']].author)\n",
    "    elif g['direction'] == 'gt':\n",
    "        users[g['name']] = set(firsts[firsts.date > g['date']].author)\n",
    "\n",
    "del firsts\n",
    "\n",
    "def get_cohort(user):\n",
    "    c = np.nan\n",
    "    # these need to be in chronological order\n",
    "    cohorts = ['once', 'before', 'after']\n",
    "    for co in cohorts:\n",
    "        if user == '[deleted]':\n",
    "            c = np.nan\n",
    "        elif user in users[co]:\n",
    "            c = co\n",
    "    \n",
    "    return c\n",
    "\n",
    "#label the comments by their author's cohort\n",
    "comments['cohort'] = comments.author.apply(get_cohort)\n",
    "\n",
    "#group comments by both date and cohort\n",
    "cohorts = comments.groupby(by='cohort').resample('M', on='date')"
   ]
  },
  {
   "cell_type": "code",
   "execution_count": null,
   "metadata": {},
   "outputs": [],
   "source": [
    "def plot_users(grouped, column='id', title=None, top=None, \n",
    "               bottom=None, events=None, agg='mean', \n",
    "               years=[2012,2016], cohorts='once'):\n",
    "    \n",
    "    fig, axs = plt.subplots(figsize=(14,10))\n",
    "    if bottom is not None:\n",
    "        axs.set_ylim(bottom=bottom)\n",
    "    if top is not None:\n",
    "        axs.set_ylim(top=top)\n",
    "    \n",
    "    if years is not None:\n",
    "        start = datetime(year=years[0], month=1, day=1)\n",
    "        end = datetime(year=years[1], month=1, day=1)\n",
    "        axs.set_xlim(left=start, right=end)\n",
    "                \n",
    "    if isinstance(cohorts, str):\n",
    "        cohorts = [cohorts]\n",
    "        \n",
    "    if agg == 'mean':\n",
    "        means = grouped.mean()\n",
    "        sems = grouped.sem()\n",
    "        for c in cohorts:\n",
    "            axs.plot(means[column][c].index, \n",
    "                     means[column][c],\n",
    "                     label=c)\n",
    "            axs.fill_between(sems[column][c].index, \n",
    "                             means[column][c]-(1.96*sems[column][c]), \n",
    "                             means[column][c]+(1.96*sems[column][c]), \n",
    "                             alpha=0.5)\n",
    "        if title is None:\n",
    "            title = 'Average '+column+' with 95% confidence interval'\n",
    "    elif agg == 'count':\n",
    "        counts = grouped.count()\n",
    "        for c in cohorts:\n",
    "            axs.plot(counts[column][c], \n",
    "                     label=c)\n",
    "        if title is None:\n",
    "            title = 'Number of comments per month'\n",
    "    elif agg == 'unique':\n",
    "        counts = grouped.nunique()\n",
    "        for c in cohorts:\n",
    "            axs.plot(counts[column][c], \n",
    "                     label=c)\n",
    "        if title is None:\n",
    "            title = 'Number of unique ___ per month'\n",
    "            \n",
    "    if events is not None:\n",
    "        if years is not None:\n",
    "            events = events[events.date >= start]\n",
    "            events = events[events.date <= end]\n",
    "        for e in events.iterrows():\n",
    "            if e[1].event == 1:\n",
    "                axs.axvline(e[1].date, color='k', linestyle='dashed', \n",
    "                            alpha=.5)\n",
    "                spot = axs.get_ylim()[1] - axs.get_ylim()[0]\n",
    "                spot *= .1 \n",
    "                spot += axs.get_ylim()[0]\n",
    "                axs.text(e[1].date, spot, e[1].description) \n",
    "            \n",
    "    axs.set_title(title)\n",
    "    axs.set_ylabel(column)\n",
    "       \n",
    "    axs.legend()\n",
    "                \n",
    "    plt.show()\n",
    "    return"
   ]
  },
  {
   "cell_type": "markdown",
   "metadata": {},
   "source": [
    "### What fraction of posts were made by each group?"
   ]
  },
  {
   "cell_type": "code",
   "execution_count": null,
   "metadata": {},
   "outputs": [],
   "source": [
    "plot_users(cohorts, column='id', \n",
    "           cohorts=['before', 'after'], \n",
    "           agg='count', \n",
    "           events=events)"
   ]
  },
  {
   "cell_type": "markdown",
   "metadata": {},
   "source": [
    "### What does each group's posting behavior look like?"
   ]
  },
  {
   "cell_type": "code",
   "execution_count": null,
   "metadata": {},
   "outputs": [],
   "source": [
    "plot_users(cohorts, column='TOXICITY', \n",
    "           cohorts=['before', 'after'], \n",
    "           events=events)"
   ]
  },
  {
   "cell_type": "code",
   "execution_count": null,
   "metadata": {},
   "outputs": [],
   "source": [
    "plot_users(cohorts, column='ATTACK_ON_COMMENTER', \n",
    "           cohorts=['before', 'after'], \n",
    "           events=events)"
   ]
  },
  {
   "cell_type": "code",
   "execution_count": null,
   "metadata": {},
   "outputs": [],
   "source": [
    "plot_users(cohorts, column='INFLAMMATORY', \n",
    "           cohorts=['before', 'after'], \n",
    "           events=events)"
   ]
  },
  {
   "cell_type": "markdown",
   "metadata": {},
   "source": [
    "### Reflect\n",
    "- Were the people who came to TwoX after default day different than those who came to the community before it?\n",
    "- How do these graphs compare with what you predicted before you looked?\n",
    "- Did either group contribute more to the overall changes in the community we saw in the beginning?\n",
    "\n",
    "### Is it about new users?\n",
    "- We saw that people who joined after default day behaved differently than those who joined before. In the next section, we'll look at whether *new* users are always different than users who have been around longer.\n",
    "- Run the helper code below and scroll down."
   ]
  },
  {
   "cell_type": "code",
   "execution_count": null,
   "metadata": {},
   "outputs": [],
   "source": [
    "users = {}\n",
    "\n",
    "#select people who only posted one comment ever\n",
    "tmp = comments.groupby(by='author').count()\n",
    "users['once'] = set(tmp[tmp.id == 1].index.values)\n",
    "del tmp\n",
    "\n",
    "#select all other people, \n",
    "firsts = comments[~comments.author.isin(users['once']\n",
    "                                                 )][['author',\n",
    "                                                     'date']]\n",
    "del users\n",
    "\n",
    "#figure out their first post date\n",
    "firsts.sort_values(by='date', inplace=True)\n",
    "firsts.drop_duplicates(subset='author', keep='first', inplace=True)\n",
    "mask = firsts.author.str.startswith('[deleted]')\n",
    "firsts.loc[mask, 'date'] = np.nan\n",
    "\n",
    "tmp = comments[['author', 'date']].merge(firsts, \n",
    "                                              how='left', \n",
    "                                              on='author',\n",
    "                                             )\n",
    "m = timedelta(days=7)\n",
    "tmp = (tmp.date_x - tmp.date_y) < m\n",
    "comments['new_user'] = tmp.replace({True: 'new', False:'old'})\n",
    "\n",
    "del tmp\n",
    "del firsts\n",
    "\n",
    "#group comments by both date and cohort\n",
    "newbies = comments.groupby(by='new_user').resample('M', on='date')"
   ]
  },
  {
   "cell_type": "code",
   "execution_count": null,
   "metadata": {},
   "outputs": [],
   "source": [
    "plot_users(newbies, column='TOXICITY', \n",
    "           cohorts=['old', 'new'], \n",
    "           events=events)"
   ]
  },
  {
   "cell_type": "code",
   "execution_count": null,
   "metadata": {},
   "outputs": [],
   "source": [
    "plot_users(newbies, column='ATTACK_ON_COMMENTER', \n",
    "           cohorts=['old', 'new'], \n",
    "           events=events)"
   ]
  },
  {
   "cell_type": "code",
   "execution_count": null,
   "metadata": {},
   "outputs": [],
   "source": [
    "plot_users(newbies, column='INFLAMMATORY', \n",
    "           cohorts=['old', 'new'], \n",
    "           events=events)"
   ]
  },
  {
   "cell_type": "markdown",
   "metadata": {},
   "source": [
    "# Reflect\n",
    "- Are comments from people who just joined the community different than comments from users who have been members longer?\n",
    "- How do these graphs compare with what you predicted before you looked?\n",
    "- Did either group contribute more to the overall changes in the community we saw in the beginning?\n",
    "- What do these comparisons tell us?\n",
    "- Overall, what happened on default day?\n",
    "- How are users who joined after default day different from those who joined before?\n",
    "- How did users who joined before default day change when it was made a default subreddit? \n",
    "    - In what ways did they stay the same?\n",
    "    \n",
    "    \n",
    "are there other decompositions?\n",
    "which were most illuminating \n",
    "track down amit's paper "
   ]
  },
  {
   "cell_type": "code",
   "execution_count": null,
   "metadata": {},
   "outputs": [],
   "source": []
  },
  {
   "cell_type": "code",
   "execution_count": null,
   "metadata": {},
   "outputs": [],
   "source": []
  },
  {
   "cell_type": "code",
   "execution_count": null,
   "metadata": {},
   "outputs": [],
   "source": []
  }
 ],
 "metadata": {
  "kernelspec": {
   "display_name": "Python 3",
   "language": "python",
   "name": "python3"
  },
  "language_info": {
   "codemirror_mode": {
    "name": "ipython",
    "version": 3
   },
   "file_extension": ".py",
   "mimetype": "text/x-python",
   "name": "python",
   "nbconvert_exporter": "python",
   "pygments_lexer": "ipython3",
   "version": "3.6.6"
  }
 },
 "nbformat": 4,
 "nbformat_minor": 2
}
