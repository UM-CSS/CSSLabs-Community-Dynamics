{
 "cells": [
  {
   "cell_type": "code",
   "execution_count": null,
   "metadata": {},
   "outputs": [],
   "source": [
    "import pandas as pd\n",
    "import numpy as np\n",
    "import os\n",
    "import matplotlib.pyplot as plt\n",
    "%matplotlib inline"
   ]
  },
  {
   "cell_type": "code",
   "execution_count": null,
   "metadata": {},
   "outputs": [],
   "source": [
    "base_dir = 'data/merged/'\n",
    "files = os.listdir(base_dir)\n",
    "print(len(files))\n",
    "files"
   ]
  },
  {
   "cell_type": "code",
   "execution_count": null,
   "metadata": {},
   "outputs": [],
   "source": [
    "keep_cols = ['controversiality', 'num_reports', 'ATTACK_ON_AUTHOR', 'downs',\n",
    "             'ATTACK_ON_COMMENTER', 'INFLAMMATORY', 'LIKELY_TO_REJECT', \n",
    "             'INCOHERENT', 'UNSUBSTANTIAL',\n",
    "             'OBSCENE', 'SEVERE_TOXICITY', 'TOXICITY', 'politeness', 'sentiment']\n",
    "\n",
    "scores = ['controversiality', 'ATTACK_ON_AUTHOR', \n",
    "             'ATTACK_ON_COMMENTER', 'INFLAMMATORY', 'LIKELY_TO_REJECT', \n",
    "             'INCOHERENT', 'UNSUBSTANTIAL',\n",
    "             'OBSCENE', 'SEVERE_TOXICITY', 'TOXICITY', 'politeness', 'sentiment']"
   ]
  },
  {
   "cell_type": "code",
   "execution_count": null,
   "metadata": {},
   "outputs": [],
   "source": [
    "means = {}\n",
    "sems = {}\n",
    "for k in keep_cols:\n",
    "    means[k] = pd.DataFrame()\n",
    "    sems[k] = pd.DataFrame()\n",
    "\n",
    "for f in files:\n",
    "    name = f[:-4]\n",
    "    print('working on', name)\n",
    "    raw = pd.read_csv(base_dir+f, sep='\\t', index_col=0)\n",
    "    raw['date'] = pd.to_datetime(raw.created_utc, unit='s')    \n",
    "    cols = set(keep_cols) - set(raw.columns.values)\n",
    "    for c in cols:\n",
    "        raw[c] = np.nan\n",
    "        \n",
    "    g = raw.resample('M', on='date')\n",
    "    g = g[keep_cols]\n",
    "    gm = g.mean()\n",
    "    ge = g.sem()\n",
    "    for k in keep_cols:    \n",
    "        means[k] = means[k].merge(gm[[k]].rename(columns={k: name}), \n",
    "                                how='outer', left_index=True, right_index=True)\n",
    "        sems[k] = sems[k].merge(ge[[k]].rename(columns={k: name}), \n",
    "                                how='outer', left_index=True, right_index=True)"
   ]
  },
  {
   "cell_type": "code",
   "execution_count": null,
   "metadata": {
    "scrolled": false
   },
   "outputs": [],
   "source": [
    "def plot_v1(means, sems, cols=None, title='Mean rating over time', top=None, bottom=0):\n",
    "    fig, axs = plt.subplots(figsize=(14,10))\n",
    "\n",
    "    if cols is None:\n",
    "        cols = means.columns.values\n",
    "    for c in cols:\n",
    "        axs.plot(means.index, means[c])\n",
    "        axs.fill_between(sems.index, \n",
    "                         means[c]-(2*sems[c]), \n",
    "                         means[c]+(2*sems[c]), \n",
    "                         alpha=0.2)\n",
    "    axs.legend()\n",
    "    axs.set_title(title)\n",
    "    axs.set_ylim(bottom=bottom, top=top)\n",
    "\n",
    "    plt.show()\n",
    "\n",
    "def metaplot(topic='main_animals', metric='TOXICITY', top=None):\n",
    "    \n",
    "    subreddits = {'animals': ['CatGifs', 'StartledCats', 'cats', 'Dogtraining',\n",
    "                              'CatsStandingUp', 'puppies', 'dogpictures'],\n",
    "                  'main_animals': ['dogs_short', 'cats', ],\n",
    "                  'parties': ['democrats',  'demsocialist', 'GreenParty', \n",
    "                               'Republican', 'Libertarian_short'],\n",
    "                  'Dem_Rep': ['democrats', 'Republican'],\n",
    "                  'other_politics': ['Liberal', 'progressive', 'FULLCOMMUNISM', \n",
    "                                      'communism', 'socialism_short'],\n",
    "                  'Feminist': ['TwoXChromosomes_short', 'TrollXChromosomes_short'],\n",
    "                  'MI_Uni': ['uofm', 'OSU', 'msu'],\n",
    "                  'all': None\n",
    "                 }\n",
    "    title = 'Mean ' + metric + ' in subreddits about ' + topic + ' with 95% CI'\n",
    "    \n",
    "    bottom=0\n",
    "    if metric == 'sentiment':\n",
    "        bottom = None\n",
    "    \n",
    "    plot_v1(means[metric],\n",
    "            sems[metric], \n",
    "            cols=subreddits[topic], \n",
    "            title=title,\n",
    "            top=top,\n",
    "            bottom=bottom\n",
    "           )\n",
    "    \n",
    "    return\n",
    "print('done')"
   ]
  },
  {
   "cell_type": "code",
   "execution_count": null,
   "metadata": {
    "scrolled": false
   },
   "outputs": [],
   "source": [
    "for s in scores:\n",
    "    metaplot(topic='main_animals', metric=s, top=None)"
   ]
  },
  {
   "cell_type": "code",
   "execution_count": null,
   "metadata": {
    "scrolled": false
   },
   "outputs": [],
   "source": [
    "for s in scores:\n",
    "    metaplot(topic='animals', metric=s, top=None)"
   ]
  },
  {
   "cell_type": "code",
   "execution_count": null,
   "metadata": {
    "scrolled": false
   },
   "outputs": [],
   "source": [
    "for s in scores:\n",
    "    metaplot(topic='MI_Uni', metric=s, top=None)"
   ]
  },
  {
   "cell_type": "code",
   "execution_count": null,
   "metadata": {
    "scrolled": false
   },
   "outputs": [],
   "source": [
    "for s in scores:\n",
    "    metaplot(topic='Feminist', metric=s, top=None)"
   ]
  },
  {
   "cell_type": "code",
   "execution_count": null,
   "metadata": {
    "scrolled": false
   },
   "outputs": [],
   "source": [
    "for s in scores:\n",
    "    metaplot(topic='parties', metric=s, top=None)"
   ]
  },
  {
   "cell_type": "code",
   "execution_count": null,
   "metadata": {
    "scrolled": false
   },
   "outputs": [],
   "source": [
    "for s in scores:\n",
    "    metaplot(topic='Dem_Rep', metric=s, top=None)"
   ]
  },
  {
   "cell_type": "code",
   "execution_count": null,
   "metadata": {
    "scrolled": false
   },
   "outputs": [],
   "source": [
    "for s in scores:\n",
    "    metaplot(topic='other_politics', metric=s, top=1)"
   ]
  },
  {
   "cell_type": "code",
   "execution_count": null,
   "metadata": {},
   "outputs": [],
   "source": []
  },
  {
   "cell_type": "code",
   "execution_count": null,
   "metadata": {},
   "outputs": [],
   "source": []
  },
  {
   "cell_type": "code",
   "execution_count": null,
   "metadata": {},
   "outputs": [],
   "source": []
  }
 ],
 "metadata": {
  "kernelspec": {
   "display_name": "Python 3",
   "language": "python",
   "name": "python3"
  },
  "language_info": {
   "codemirror_mode": {
    "name": "ipython",
    "version": 3
   },
   "file_extension": ".py",
   "mimetype": "text/x-python",
   "name": "python",
   "nbconvert_exporter": "python",
   "pygments_lexer": "ipython3",
   "version": "3.6.4"
  }
 },
 "nbformat": 4,
 "nbformat_minor": 2
}
