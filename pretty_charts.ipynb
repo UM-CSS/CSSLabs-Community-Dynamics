{
 "cells": [
  {
   "cell_type": "markdown",
   "metadata": {},
   "source": [
    "# UM - themed reddit charts\n",
    "Just for fun, not an official lab for class"
   ]
  },
  {
   "cell_type": "code",
   "execution_count": null,
   "metadata": {},
   "outputs": [],
   "source": [
    "import pandas as pd\n",
    "from datetime import datetime\n",
    "import matplotlib.pyplot as plt\n",
    "\n",
    "%matplotlib inline"
   ]
  },
  {
   "cell_type": "code",
   "execution_count": null,
   "metadata": {},
   "outputs": [],
   "source": [
    "#read the data\n",
    "um_comments = pd.read_csv('data/merged/uofm.tsv.gz', sep='\\t')\n",
    "#convert our dates to the date data type\n",
    "um_comments['date'] = pd.to_datetime(um_comments.date)\n",
    "#show the shape of our table\n",
    "um_comments.shape"
   ]
  },
  {
   "cell_type": "code",
   "execution_count": null,
   "metadata": {},
   "outputs": [],
   "source": [
    "#Group the comments by month\n",
    "monthly = um_comments.resample('M', on='date')"
   ]
  },
  {
   "cell_type": "code",
   "execution_count": null,
   "metadata": {},
   "outputs": [],
   "source": [
    "exams = pd.read_csv('data/UM_academic_calendar_no_summer.tsv', sep='\\t')\n",
    "exams['date'] = pd.to_datetime(exams.date)\n",
    "exams.tail()"
   ]
  },
  {
   "cell_type": "markdown",
   "metadata": {},
   "source": [
    "#### Helper functions\n",
    "- Don't worry about how this code works, just run it and scroll down."
   ]
  },
  {
   "cell_type": "code",
   "execution_count": null,
   "metadata": {},
   "outputs": [],
   "source": [
    "def center_on_dates(comments, dates, window_size=14):\n",
    "    subset = []\n",
    "    for d in dates.date:\n",
    "        start = d - pd.Timedelta(window_size, unit='d')\n",
    "        end = d + pd.Timedelta(window_size+1, unit='d')\n",
    "        tmp = comments[(comments.date >= start) & \n",
    "                          (comments.date <= end)].copy()\n",
    "        tmp['days'] = tmp.date.apply(lambda x: (x - d).days)\n",
    "        subset.append(tmp)\n",
    "\n",
    "    subset = pd.concat(subset)\n",
    "    return subset.groupby(by='days')"
   ]
  },
  {
   "cell_type": "code",
   "execution_count": null,
   "metadata": {},
   "outputs": [],
   "source": [
    "exam_weeks = center_on_dates(um_comments, exams)"
   ]
  },
  {
   "cell_type": "code",
   "execution_count": null,
   "metadata": {},
   "outputs": [],
   "source": [
    "plt.style.use('fivethirtyeight')\n",
    "plt.rcParams.update({'font.size': 20, \n",
    "                     'legend.fontsize': 'large', \n",
    "                     'xtick.labelsize': 'medium'})\n",
    "\n",
    "def make_plot3(grouped, columns='id', title=None, \n",
    "               top=None, bottom=None, colors='UM',\n",
    "               agg='mean', names = None, \n",
    "               line_label='Game Day', x_label='Days from Game Day'):\n",
    "    \n",
    "    color_sets = {'UM': ['#024794', '#ffcb05', '#83b2a8',\n",
    "                         '#989c97', '#7a121c'],\n",
    "                  'vega': ['#1f77b4', '#ff7f0e', '#2ca02c', \n",
    "                           '#d62728', '#9467bd', '#8c564b',\n",
    "                           '#e377c2', '#7f7f7f', '#bcbd22']}\n",
    "    \n",
    "    fig, axs = plt.subplots(figsize=(14,10))\n",
    "    if bottom is not None:\n",
    "        axs.set_ylim(bottom=bottom)\n",
    "    if top is not None:\n",
    "        axs.set_ylim(top=top)\n",
    "                \n",
    "    if isinstance(columns, str):\n",
    "        columns = [columns]\n",
    "    \n",
    "    if not isinstance(grouped, list):\n",
    "        grouped = [grouped]\n",
    "        names=['']\n",
    "        \n",
    "    scheme = color_sets[colors]\n",
    "          \n",
    "    axs.axvline(0, color='k', linestyle='dashed', alpha=.5)\n",
    "    \n",
    "    i = 0\n",
    "    for g, n in zip(grouped, names):\n",
    "        for c in columns:\n",
    "            means = g[c].mean()\n",
    "            sems = g[c].sem()\n",
    "            axs.plot(means.index, means, color=scheme[i],\n",
    "                     label=n)\n",
    "            axs.fill_between(sems.index, means-(1.96*sems), \n",
    "                             means+(1.96*sems), \n",
    "                             color=scheme[i], alpha=0.5)\n",
    "            i += 1\n",
    "\n",
    "        if title is None:\n",
    "            title = 'Average with 95% confidence interval'\n",
    "\n",
    "    axs.set_title(title)\n",
    "    axs.set_xlabel(x_label)\n",
    "    axs.set_ylabel('Average Sentiment')\n",
    "    if len(grouped)>1:\n",
    "        axs.legend(loc='lower left')\n",
    "    \n",
    "    axs.text(0.1, axs.get_ylim()[1]-.01, \n",
    "            line_label)\n",
    "    axs.grid(False)\n",
    "    fig.set_facecolor('white')\n",
    "    axs.edgecolor = 'white'\n",
    "    axs.set_facecolor('white')\n",
    "    plt.tight_layout()\n",
    "    plt.savefig(line_label+'_sentiment.pdf', facecolor=fig.get_facecolor(), edgecolor='none' )\n",
    "    plt.savefig(line_label+'_sentiment.png', facecolor=fig.get_facecolor(), edgecolor='none')\n",
    "    plt.savefig(line_label+'_sentiment.eps', facecolor=fig.get_facecolor(), edgecolor='none')\n",
    "    plt.show()\n",
    "    return"
   ]
  },
  {
   "cell_type": "code",
   "execution_count": null,
   "metadata": {},
   "outputs": [],
   "source": [
    "ti = \"Average sentiment in Reddit's r/uofm community,\\n\"\n",
    "ti += \"around the start of exams\"\n",
    "\n",
    "make_plot3(exam_weeks, columns=['sentiment'], colors='UM',\n",
    "           x_label = 'Days from Start of Exams',\n",
    "           title = ti,\n",
    "           line_label='Exams Start')"
   ]
  },
  {
   "cell_type": "markdown",
   "metadata": {},
   "source": [
    "### Football games\n",
    "- Load data from the subreddit for UM athletics, `r/MichiganWolverines`, and the dates of football games."
   ]
  },
  {
   "cell_type": "code",
   "execution_count": null,
   "metadata": {},
   "outputs": [],
   "source": [
    "sports_comments = pd.read_csv('data/merged/MichiganWolverines.tsv.gz', \n",
    "                              sep='\\t')\n",
    "sports_comments['date'] = pd.to_datetime(sports_comments.date)\n",
    "\n",
    "games = pd.read_csv('data/UM_football.tsv', sep='\\t')\n",
    "games['date'] = pd.to_datetime(games.date)\n",
    "\n",
    "win_days = center_on_dates(sports_comments, \n",
    "                           games[games.game_result == 'W'], \n",
    "                           window_size=7)\n",
    "loss_days = center_on_dates(sports_comments, \n",
    "                           games[games.game_result == 'L'], \n",
    "                           window_size=7)"
   ]
  },
  {
   "cell_type": "code",
   "execution_count": null,
   "metadata": {},
   "outputs": [],
   "source": [
    "ti = \"Average sentiment in Reddit's r/MichiganWolverines community,\\n\"\n",
    "ti += \"before and after game days\"\n",
    "\n",
    "make_plot3([win_days, loss_days], \n",
    "           names=['Games we won', 'Games we lost'],\n",
    "           columns='sentiment', \n",
    "           colors='UM',\n",
    "           title=ti)"
   ]
  },
  {
   "cell_type": "code",
   "execution_count": null,
   "metadata": {},
   "outputs": [],
   "source": []
  },
  {
   "cell_type": "code",
   "execution_count": null,
   "metadata": {},
   "outputs": [],
   "source": []
  }
 ],
 "metadata": {
  "kernelspec": {
   "display_name": "Python 3",
   "language": "python",
   "name": "python3"
  },
  "language_info": {
   "codemirror_mode": {
    "name": "ipython",
    "version": 3
   },
   "file_extension": ".py",
   "mimetype": "text/x-python",
   "name": "python",
   "nbconvert_exporter": "python",
   "pygments_lexer": "ipython3",
   "version": "3.7.9"
  }
 },
 "nbformat": 4,
 "nbformat_minor": 4
}
