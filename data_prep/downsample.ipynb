{
 "cells": [
  {
   "cell_type": "code",
   "execution_count": 15,
   "metadata": {},
   "outputs": [],
   "source": [
    "import pandas as pd\n",
    "import sys\n",
    "import matplotlib.pyplot as plt\n",
    "\n",
    "%matplotlib inline"
   ]
  },
  {
   "cell_type": "code",
   "execution_count": 2,
   "metadata": {},
   "outputs": [],
   "source": [
    "to_shorten = ['../sampled/TwoXChromosomes.tsv', \n",
    "              '../sampled/TrollXChromosomes.tsv',\n",
    "              '../sampled/Libertarian.tsv', \n",
    "              '../sampled/dogs.tsv',\n",
    "              '../sampled/socialism.tsv'\n",
    "             ]\n",
    "\n",
    "desired = 200000"
   ]
  },
  {
   "cell_type": "code",
   "execution_count": 35,
   "metadata": {},
   "outputs": [],
   "source": [
    "def get_sample(data, desired):\n",
    "    l = len(data)\n",
    "    if l > 0:\n",
    "        if l > desired:\n",
    "            return data.sample(n=desired)\n",
    "        else:\n",
    "            return data\n",
    "    return\n",
    "\n",
    "def shorten(df, desired=150000):\n",
    "    df['date'] = pd.to_datetime(df.created_utc, unit='s')\n",
    "    df = df.set_index('date')\n",
    "    g = df.groupby(pd.Grouper(freq='D'))\n",
    "    per_group = int( desired / len(g.groups) )\n",
    "    short = g.apply(get_sample, desired=per_group)\n",
    "    return short.reset_index(drop=True)"
   ]
  },
  {
   "cell_type": "code",
   "execution_count": 36,
   "metadata": {
    "scrolled": false
   },
   "outputs": [
    {
     "name": "stdout",
     "output_type": "stream",
     "text": [
      "starting ../sampled/TwoXChromosomes.tsv\n"
     ]
    },
    {
     "name": "stderr",
     "output_type": "stream",
     "text": [
      "/home/jwlock/anaconda3/lib/python3.6/site-packages/IPython/core/interactiveshell.py:2728: DtypeWarning: Columns (4,10,11,12,13,22,32) have mixed types. Specify dtype option on import or set low_memory=False.\n",
      "  interactivity=interactivity, compiler=compiler, result=result)\n"
     ]
    },
    {
     "name": "stdout",
     "output_type": "stream",
     "text": [
      "done reading\n",
      "starting ../sampled/TrollXChromosomes.tsv\n"
     ]
    },
    {
     "name": "stderr",
     "output_type": "stream",
     "text": [
      "/home/jwlock/anaconda3/lib/python3.6/site-packages/IPython/core/interactiveshell.py:2728: DtypeWarning: Columns (4,11,12,13,22,28,32) have mixed types. Specify dtype option on import or set low_memory=False.\n",
      "  interactivity=interactivity, compiler=compiler, result=result)\n"
     ]
    },
    {
     "name": "stdout",
     "output_type": "stream",
     "text": [
      "done reading\n",
      "starting ../sampled/Libertarian.tsv\n"
     ]
    },
    {
     "name": "stderr",
     "output_type": "stream",
     "text": [
      "/home/jwlock/anaconda3/lib/python3.6/site-packages/IPython/core/interactiveshell.py:2728: DtypeWarning: Columns (4,5,11,12,13,17,22,32) have mixed types. Specify dtype option on import or set low_memory=False.\n",
      "  interactivity=interactivity, compiler=compiler, result=result)\n"
     ]
    },
    {
     "name": "stdout",
     "output_type": "stream",
     "text": [
      "done reading\n",
      "starting ../sampled/dogs.tsv\n"
     ]
    },
    {
     "name": "stderr",
     "output_type": "stream",
     "text": [
      "/home/jwlock/anaconda3/lib/python3.6/site-packages/IPython/core/interactiveshell.py:2728: DtypeWarning: Columns (11,13,32) have mixed types. Specify dtype option on import or set low_memory=False.\n",
      "  interactivity=interactivity, compiler=compiler, result=result)\n"
     ]
    },
    {
     "name": "stdout",
     "output_type": "stream",
     "text": [
      "done reading\n",
      "starting ../sampled/socialism.tsv\n"
     ]
    },
    {
     "name": "stderr",
     "output_type": "stream",
     "text": [
      "/home/jwlock/anaconda3/lib/python3.6/site-packages/IPython/core/interactiveshell.py:2728: DtypeWarning: Columns (4,11,32) have mixed types. Specify dtype option on import or set low_memory=False.\n",
      "  interactivity=interactivity, compiler=compiler, result=result)\n"
     ]
    },
    {
     "name": "stdout",
     "output_type": "stream",
     "text": [
      "done reading\n"
     ]
    }
   ],
   "source": [
    "for f in to_shorten:\n",
    "    print(\"starting\", f)\n",
    "    df = pd.read_csv(f, sep='\\t')\n",
    "    print('done reading')\n",
    "    df = shorten(df, desired=desired)\n",
    "    name = f[:-4]+'_short.tsv'\n",
    "    df.to_csv(name, sep='\\t', index=False)"
   ]
  },
  {
   "cell_type": "code",
   "execution_count": 37,
   "metadata": {},
   "outputs": [
    {
     "name": "stdout",
     "output_type": "stream",
     "text": [
      "done!\n"
     ]
    }
   ],
   "source": [
    "print('done!')"
   ]
  },
  {
   "cell_type": "code",
   "execution_count": null,
   "metadata": {},
   "outputs": [],
   "source": []
  },
  {
   "cell_type": "code",
   "execution_count": null,
   "metadata": {},
   "outputs": [],
   "source": []
  },
  {
   "cell_type": "code",
   "execution_count": 5,
   "metadata": {
    "scrolled": true
   },
   "outputs": [
    {
     "name": "stderr",
     "output_type": "stream",
     "text": [
      "/home/jwlock/anaconda3/lib/python3.6/site-packages/IPython/core/interactiveshell.py:2728: DtypeWarning: Columns (4,11,12,13,22,28,32) have mixed types. Specify dtype option on import or set low_memory=False.\n",
      "  interactivity=interactivity, compiler=compiler, result=result)\n"
     ]
    }
   ],
   "source": [
    "df = pd.read_csv('../sampled/TrollXChromosomes.tsv', sep='\\t')"
   ]
  },
  {
   "cell_type": "code",
   "execution_count": 11,
   "metadata": {},
   "outputs": [],
   "source": [
    "def get_sample(data, desired):\n",
    "    l = len(data)\n",
    "    if l > 0:\n",
    "        if l > desired:\n",
    "            return data.sample(n=desired)\n",
    "        else:\n",
    "            return data\n",
    "    return\n",
    "\n",
    "df['date'] = pd.to_datetime(df.created_utc, unit='s')\n",
    "df = df.set_index('date')\n",
    "g = df.groupby(pd.Grouper(freq='D'))\n",
    "per_group = int( desired / len(g.groups) )\n",
    "short = g.apply(get_sample, desired=per_group)\n"
   ]
  },
  {
   "cell_type": "code",
   "execution_count": 12,
   "metadata": {},
   "outputs": [
    {
     "data": {
      "text/plain": [
       "(188681, 39)"
      ]
     },
     "execution_count": 12,
     "metadata": {},
     "output_type": "execute_result"
    }
   ],
   "source": [
    "short.shape"
   ]
  },
  {
   "cell_type": "code",
   "execution_count": 14,
   "metadata": {},
   "outputs": [
    {
     "data": {
      "text/html": [
       "<div>\n",
       "<style scoped>\n",
       "    .dataframe tbody tr th:only-of-type {\n",
       "        vertical-align: middle;\n",
       "    }\n",
       "\n",
       "    .dataframe tbody tr th {\n",
       "        vertical-align: top;\n",
       "    }\n",
       "\n",
       "    .dataframe thead th {\n",
       "        text-align: right;\n",
       "    }\n",
       "</style>\n",
       "<table border=\"1\" class=\"dataframe\">\n",
       "  <thead>\n",
       "    <tr style=\"text-align: right;\">\n",
       "      <th></th>\n",
       "      <th></th>\n",
       "      <th>approved_at_utc</th>\n",
       "      <th>approved_by</th>\n",
       "      <th>archived</th>\n",
       "      <th>author</th>\n",
       "      <th>author_cakeday</th>\n",
       "      <th>author_flair_css_class</th>\n",
       "      <th>author_flair_text</th>\n",
       "      <th>banned_at_utc</th>\n",
       "      <th>banned_by</th>\n",
       "      <th>body</th>\n",
       "      <th>...</th>\n",
       "      <th>replies</th>\n",
       "      <th>report_reasons</th>\n",
       "      <th>retrieved_on</th>\n",
       "      <th>saved</th>\n",
       "      <th>score</th>\n",
       "      <th>score_hidden</th>\n",
       "      <th>stickied</th>\n",
       "      <th>subreddit</th>\n",
       "      <th>subreddit_id</th>\n",
       "      <th>ups</th>\n",
       "    </tr>\n",
       "    <tr>\n",
       "      <th>date</th>\n",
       "      <th>date</th>\n",
       "      <th></th>\n",
       "      <th></th>\n",
       "      <th></th>\n",
       "      <th></th>\n",
       "      <th></th>\n",
       "      <th></th>\n",
       "      <th></th>\n",
       "      <th></th>\n",
       "      <th></th>\n",
       "      <th></th>\n",
       "      <th></th>\n",
       "      <th></th>\n",
       "      <th></th>\n",
       "      <th></th>\n",
       "      <th></th>\n",
       "      <th></th>\n",
       "      <th></th>\n",
       "      <th></th>\n",
       "      <th></th>\n",
       "      <th></th>\n",
       "      <th></th>\n",
       "    </tr>\n",
       "  </thead>\n",
       "  <tbody>\n",
       "    <tr>\n",
       "      <th>2011-04-01</th>\n",
       "      <th>2011-04-01 01:25:21</th>\n",
       "      <td>NaN</td>\n",
       "      <td>NaN</td>\n",
       "      <td>True</td>\n",
       "      <td>sodypop</td>\n",
       "      <td>NaN</td>\n",
       "      <td>username</td>\n",
       "      <td>fun police</td>\n",
       "      <td>NaN</td>\n",
       "      <td>NaN</td>\n",
       "      <td>test</td>\n",
       "      <td>...</td>\n",
       "      <td>NaN</td>\n",
       "      <td>NaN</td>\n",
       "      <td>1.427030e+09</td>\n",
       "      <td>NaN</td>\n",
       "      <td>3</td>\n",
       "      <td>False</td>\n",
       "      <td>NaN</td>\n",
       "      <td>TrollXChromosomes</td>\n",
       "      <td>t5_2sekm</td>\n",
       "      <td>3.0</td>\n",
       "    </tr>\n",
       "    <tr>\n",
       "      <th>2011-04-04</th>\n",
       "      <th>2011-04-04 23:04:07</th>\n",
       "      <td>NaN</td>\n",
       "      <td>NaN</td>\n",
       "      <td>True</td>\n",
       "      <td>popydos</td>\n",
       "      <td>NaN</td>\n",
       "      <td>username</td>\n",
       "      <td>si looc</td>\n",
       "      <td>NaN</td>\n",
       "      <td>NaN</td>\n",
       "      <td>jerk.</td>\n",
       "      <td>...</td>\n",
       "      <td>NaN</td>\n",
       "      <td>NaN</td>\n",
       "      <td>1.427039e+09</td>\n",
       "      <td>NaN</td>\n",
       "      <td>3</td>\n",
       "      <td>False</td>\n",
       "      <td>NaN</td>\n",
       "      <td>TrollXChromosomes</td>\n",
       "      <td>t5_2sekm</td>\n",
       "      <td>3.0</td>\n",
       "    </tr>\n",
       "    <tr>\n",
       "      <th rowspan=\"3\" valign=\"top\">2011-06-16</th>\n",
       "      <th>2011-06-16 22:09:40</th>\n",
       "      <td>NaN</td>\n",
       "      <td>NaN</td>\n",
       "      <td>True</td>\n",
       "      <td>daclamp</td>\n",
       "      <td>NaN</td>\n",
       "      <td>NaN</td>\n",
       "      <td>NaN</td>\n",
       "      <td>NaN</td>\n",
       "      <td>NaN</td>\n",
       "      <td>testjerk.</td>\n",
       "      <td>...</td>\n",
       "      <td>NaN</td>\n",
       "      <td>NaN</td>\n",
       "      <td>1.427254e+09</td>\n",
       "      <td>NaN</td>\n",
       "      <td>6</td>\n",
       "      <td>False</td>\n",
       "      <td>NaN</td>\n",
       "      <td>TrollXChromosomes</td>\n",
       "      <td>t5_2sekm</td>\n",
       "      <td>6.0</td>\n",
       "    </tr>\n",
       "    <tr>\n",
       "      <th>2011-06-16 22:17:15</th>\n",
       "      <td>NaN</td>\n",
       "      <td>NaN</td>\n",
       "      <td>True</td>\n",
       "      <td>pearlysweetcake</td>\n",
       "      <td>NaN</td>\n",
       "      <td>NaN</td>\n",
       "      <td>NaN</td>\n",
       "      <td>NaN</td>\n",
       "      <td>NaN</td>\n",
       "      <td>[](/lol)[](/uterus)</td>\n",
       "      <td>...</td>\n",
       "      <td>NaN</td>\n",
       "      <td>NaN</td>\n",
       "      <td>1.427254e+09</td>\n",
       "      <td>NaN</td>\n",
       "      <td>19</td>\n",
       "      <td>False</td>\n",
       "      <td>NaN</td>\n",
       "      <td>TrollXChromosomes</td>\n",
       "      <td>t5_2sekm</td>\n",
       "      <td>19.0</td>\n",
       "    </tr>\n",
       "    <tr>\n",
       "      <th>2011-06-16 22:22:42</th>\n",
       "      <td>NaN</td>\n",
       "      <td>NaN</td>\n",
       "      <td>True</td>\n",
       "      <td>sodypop</td>\n",
       "      <td>NaN</td>\n",
       "      <td>username</td>\n",
       "      <td>fun police</td>\n",
       "      <td>NaN</td>\n",
       "      <td>NaN</td>\n",
       "      <td>[](/pickletime \"Pretty sure this is how...\")[]...</td>\n",
       "      <td>...</td>\n",
       "      <td>NaN</td>\n",
       "      <td>NaN</td>\n",
       "      <td>1.427255e+09</td>\n",
       "      <td>NaN</td>\n",
       "      <td>13</td>\n",
       "      <td>False</td>\n",
       "      <td>NaN</td>\n",
       "      <td>TrollXChromosomes</td>\n",
       "      <td>t5_2sekm</td>\n",
       "      <td>13.0</td>\n",
       "    </tr>\n",
       "  </tbody>\n",
       "</table>\n",
       "<p>5 rows × 39 columns</p>\n",
       "</div>"
      ],
      "text/plain": [
       "                                approved_at_utc  approved_by archived  \\\n",
       "date       date                                                         \n",
       "2011-04-01 2011-04-01 01:25:21              NaN          NaN     True   \n",
       "2011-04-04 2011-04-04 23:04:07              NaN          NaN     True   \n",
       "2011-06-16 2011-06-16 22:09:40              NaN          NaN     True   \n",
       "           2011-06-16 22:17:15              NaN          NaN     True   \n",
       "           2011-06-16 22:22:42              NaN          NaN     True   \n",
       "\n",
       "                                         author author_cakeday  \\\n",
       "date       date                                                  \n",
       "2011-04-01 2011-04-01 01:25:21          sodypop            NaN   \n",
       "2011-04-04 2011-04-04 23:04:07          popydos            NaN   \n",
       "2011-06-16 2011-06-16 22:09:40          daclamp            NaN   \n",
       "           2011-06-16 22:17:15  pearlysweetcake            NaN   \n",
       "           2011-06-16 22:22:42          sodypop            NaN   \n",
       "\n",
       "                               author_flair_css_class author_flair_text  \\\n",
       "date       date                                                           \n",
       "2011-04-01 2011-04-01 01:25:21               username        fun police   \n",
       "2011-04-04 2011-04-04 23:04:07               username           si looc   \n",
       "2011-06-16 2011-06-16 22:09:40                    NaN               NaN   \n",
       "           2011-06-16 22:17:15                    NaN               NaN   \n",
       "           2011-06-16 22:22:42               username        fun police   \n",
       "\n",
       "                                banned_at_utc  banned_by  \\\n",
       "date       date                                            \n",
       "2011-04-01 2011-04-01 01:25:21            NaN        NaN   \n",
       "2011-04-04 2011-04-04 23:04:07            NaN        NaN   \n",
       "2011-06-16 2011-06-16 22:09:40            NaN        NaN   \n",
       "           2011-06-16 22:17:15            NaN        NaN   \n",
       "           2011-06-16 22:22:42            NaN        NaN   \n",
       "\n",
       "                                                                             body  \\\n",
       "date       date                                                                     \n",
       "2011-04-01 2011-04-01 01:25:21                                               test   \n",
       "2011-04-04 2011-04-04 23:04:07                                              jerk.   \n",
       "2011-06-16 2011-06-16 22:09:40                                          testjerk.   \n",
       "           2011-06-16 22:17:15                                [](/lol)[](/uterus)   \n",
       "           2011-06-16 22:22:42  [](/pickletime \"Pretty sure this is how...\")[]...   \n",
       "\n",
       "                                ...  replies report_reasons  retrieved_on  \\\n",
       "date       date                 ...                                         \n",
       "2011-04-01 2011-04-01 01:25:21  ...      NaN            NaN  1.427030e+09   \n",
       "2011-04-04 2011-04-04 23:04:07  ...      NaN            NaN  1.427039e+09   \n",
       "2011-06-16 2011-06-16 22:09:40  ...      NaN            NaN  1.427254e+09   \n",
       "           2011-06-16 22:17:15  ...      NaN            NaN  1.427254e+09   \n",
       "           2011-06-16 22:22:42  ...      NaN            NaN  1.427255e+09   \n",
       "\n",
       "                               saved  score  score_hidden  stickied  \\\n",
       "date       date                                                       \n",
       "2011-04-01 2011-04-01 01:25:21   NaN      3         False       NaN   \n",
       "2011-04-04 2011-04-04 23:04:07   NaN      3         False       NaN   \n",
       "2011-06-16 2011-06-16 22:09:40   NaN      6         False       NaN   \n",
       "           2011-06-16 22:17:15   NaN     19         False       NaN   \n",
       "           2011-06-16 22:22:42   NaN     13         False       NaN   \n",
       "\n",
       "                                        subreddit  subreddit_id   ups  \n",
       "date       date                                                        \n",
       "2011-04-01 2011-04-01 01:25:21  TrollXChromosomes      t5_2sekm   3.0  \n",
       "2011-04-04 2011-04-04 23:04:07  TrollXChromosomes      t5_2sekm   3.0  \n",
       "2011-06-16 2011-06-16 22:09:40  TrollXChromosomes      t5_2sekm   6.0  \n",
       "           2011-06-16 22:17:15  TrollXChromosomes      t5_2sekm  19.0  \n",
       "           2011-06-16 22:22:42  TrollXChromosomes      t5_2sekm  13.0  \n",
       "\n",
       "[5 rows x 39 columns]"
      ]
     },
     "execution_count": 14,
     "metadata": {},
     "output_type": "execute_result"
    }
   ],
   "source": [
    "short.head()"
   ]
  },
  {
   "cell_type": "code",
   "execution_count": 38,
   "metadata": {},
   "outputs": [
    {
     "data": {
      "text/plain": [
       "<matplotlib.axes._subplots.AxesSubplot at 0x7f6aa55d0160>"
      ]
     },
     "execution_count": 38,
     "metadata": {},
     "output_type": "execute_result"
    },
    {
     "data": {
      "image/png": "[encoded data removed]",
      "text/plain": [
       "<matplotlib.figure.Figure at 0x7f6ab423fa20>"
      ]
     },
     "metadata": {},
     "output_type": "display_data"
    }
   ],
   "source": [
    "g['id'].count().plot(title='posts per day')"
   ]
  },
  {
   "cell_type": "code",
   "execution_count": 39,
   "metadata": {},
   "outputs": [
    {
     "data": {
      "text/plain": [
       "<matplotlib.axes._subplots.AxesSubplot at 0x7f6a98e69400>"
      ]
     },
     "execution_count": 39,
     "metadata": {},
     "output_type": "execute_result"
    },
    {
     "data": {
      "image/png": "[encoded data removed]",
      "text/plain": [
       "<matplotlib.figure.Figure at 0x7f6aaf5110b8>"
      ]
     },
     "metadata": {},
     "output_type": "display_data"
    }
   ],
   "source": [
    "g2 = short.reset_index(level=[0]).groupby(pd.Grouper(freq='D'))\n",
    "g2['id'].count().plot(title='posts per day after downsampling')"
   ]
  },
  {
   "cell_type": "code",
   "execution_count": 40,
   "metadata": {},
   "outputs": [
    {
     "data": {
      "text/plain": [
       "2550"
      ]
     },
     "execution_count": 40,
     "metadata": {},
     "output_type": "execute_result"
    }
   ],
   "source": [
    "85*30"
   ]
  },
  {
   "cell_type": "code",
   "execution_count": null,
   "metadata": {},
   "outputs": [],
   "source": []
  }
 ],
 "metadata": {
  "kernelspec": {
   "display_name": "Python 3",
   "language": "python",
   "name": "python3"
  },
  "language_info": {
   "codemirror_mode": {
    "name": "ipython",
    "version": 3
   },
   "file_extension": ".py",
   "mimetype": "text/x-python",
   "name": "python",
   "nbconvert_exporter": "python",
   "pygments_lexer": "ipython3",
   "version": "3.6.4"
  }
 },
 "nbformat": 4,
 "nbformat_minor": 2
}
