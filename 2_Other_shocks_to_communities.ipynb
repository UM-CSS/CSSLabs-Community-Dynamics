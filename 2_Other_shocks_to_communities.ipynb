{
 "cells": [
  {
   "cell_type": "markdown",
   "metadata": {},
   "source": [
    "# Lab 2: Other Shocks to Communities\n",
    "\n",
    "## Contents\n",
    "1. [Setup](#Section-1%3A-Setup)\n",
    "    1. [Import](#1.1-Import-Packages)\n",
    "    1. [Data](#1.2-Data)\n",
    "1. [Activity over Time](#Section-2%3A-Activity-over-Time)\n",
    "    1. [Measuring Overall Conflict](#2.1-Measuring-Overall-Conflict)\n",
    "    1. [Drivers of Change](#2.2-Drivers-of-Change)\n",
    "    1. [Joining after Default Day](#2.3-Joining-after-Default-Day)\n",
    "    1. [Being New to the Community](#2.4-Being-New-to-the-Community)\n",
    "\n",
    "## Section 0: Background\n",
    "- We saw in Lab 1 that the community r/TwoXChromosomes was dramatically changed when it was made a default subreddit.\n",
    "- In this lab, we look at other communities that were made default subreddits on the same day that TwoX was (May 7, 2014).\n",
    "\n",
    "## Section 1: Setup\n",
    "### 1.1 Import Packages"
   ]
  },
  {
   "cell_type": "code",
   "execution_count": null,
   "metadata": {},
   "outputs": [],
   "source": [
    "import pandas as pd\n",
    "import numpy as np\n",
    "import os\n",
    "import urllib.request\n",
    "from datetime import datetime, timedelta\n",
    "import matplotlib.pyplot as plt\n",
    "pd.plotting.register_matplotlib_converters()\n",
    "\n",
    "%matplotlib inline"
   ]
  },
  {
   "cell_type": "markdown",
   "metadata": {},
   "source": [
    "### 1.2 Data\n",
    "- Pick the community you want to look at in this lab and put its name below. \n",
    "- Be sure your spelling and capitalization is **exactly** the same as in the list, or else the code will break."
   ]
  },
  {
   "cell_type": "code",
   "execution_count": null,
   "metadata": {},
   "outputs": [],
   "source": [
    "links = {'photoshopbattles': 'https://docs.google.com/uc?export=download&id=1E_Yzu4-uH4Lu-xuniyjJPn9IZ7OmfOmE',\n",
    "         'tifu': 'https://umich.box.com/shared/static/9ckqb90ink4looycv9zq3sxrf9texl3x.gz',\n",
    "         'personalfinance': 'https://umich.box.com/shared/static/bda1e5c7nme84wfk7zjma0gm71zwvjvt.gz',\n",
    "         'nottheonion': 'https://umich.box.com/shared/static/tz1lpysrl0u97ji6ekrwnu952kyiti2n.gz',\n",
    "         'mildlyinteresting': 'https://umich.box.com/shared/static/7rmejj8d5avtigfic4qh0m8fdvw40s4p.gz',\n",
    "         'dataisbeautiful': 'https://docs.google.com/uc?export=download&id=1OHXq7oHNgumXKI3n3oa8sWKF0jJhC_jM',\n",
    "         'listentothis': 'https://docs.google.com/uc?export=download&id=1OjD6NDFdAsr_td94y8iJY1MbUml7fKir',\n",
    "         'gadgets': 'https://docs.google.com/uc?export=download&id=1usRza8vTjXKbQJ5ACFLMYgjO1mc6u4pO',\n",
    "         'Showerthoughts': 'https://umich.box.com/shared/static/lwgd51d1zwf0bwuj8rdhl14jhpo4nb11.gz',\n",
    "         'LifeProTips': 'https://umich.box.com/shared/static/r1w0s4tpyunw2zxmc7dszipz7kvh6r3z.gz',\n",
    "         'Jokes': 'https://docs.google.com/uc?export=download&id=1JbJ3VrzYVg2np4LdC7sO7yTWqWIHTCIE',\n",
    "         'DIY': 'https://docs.google.com/uc?export=download&id=10esiYYTyqXEq40h7OTq84TzS91aRx0J4',\n",
    "         'creepy': 'https://docs.google.com/uc?export=download&id=1gorS9SbXhtslWAp00xnKdZnKuGfZELXT',\n",
    "         'Documentaries': 'https://docs.google.com/uc?export=download&id=1-NFpyno9pO_m0IY1w1uVfj-sNx7FFeCu',\n",
    "         'Art': 'https://docs.google.com/uc?export=download&id=1snhr8irqgrMZ63-PlxFbVwEPOfcUiMOg',\n",
    "         'GetMotivated': 'https://docs.google.com/uc?export=download&id=16XX8l41byuawooQRaFDm2OG5GPH2EwUQ',\n",
    "         'UpliftingNews': 'https://docs.google.com/uc?export=download&id=1Og-9dsj1AbGz-spK4xowJpAB_bdPnX6a',\n",
    "         'InternetIsBeautiful': 'https://docs.google.com/uc?export=download&id=15c2ye-kM1Lmknu0e50YuYCv4zWbxsWcb'\n",
    "        }\n",
    "\n",
    "print(\"Your options are:\")\n",
    "for l in links.keys():\n",
    "    print('    - '+ l)"
   ]
  },
  {
   "cell_type": "markdown",
   "metadata": {},
   "source": [
    "#### Chose your subreddit here"
   ]
  },
  {
   "cell_type": "code",
   "execution_count": null,
   "metadata": {},
   "outputs": [],
   "source": [
    "subreddit = 'UpliftingNews'"
   ]
  },
  {
   "cell_type": "markdown",
   "metadata": {},
   "source": [
    "- Here we load the data and do a little cleaning up. \n",
    "- Don't worry about how the cleanup is done, just run the code and scroll down."
   ]
  },
  {
   "cell_type": "code",
   "execution_count": null,
   "metadata": {},
   "outputs": [],
   "source": [
    "fname = 'data/merged/'+subreddit+'.tsv.gz'\n",
    "if os.path.isfile(fname):\n",
    "    print(\"You already downloaded the data. Great!\")\n",
    "else:\n",
    "    print('Downloading file...')\n",
    "    urllib.request.urlretrieve(url=links[subreddit],\n",
    "                               filename=fname)\n",
    "    print('Done!')\n",
    "\n",
    "comments = pd.read_csv(fname, sep='\\t', index_col=0)\n",
    "\n",
    "#downsample for size\n",
    "comments = comments.sample(n=min(comments.shape[0], 3000000))\n",
    "\n",
    "#convert our dates to the date data type\n",
    "comments['date'] = pd.to_datetime(comments.date)\n",
    "#compress data for lower memory environments\n",
    "comments.drop_duplicates(subset=['id'], inplace=True)\n",
    "comments['id'] = comments.index.values\n",
    "f = comments.select_dtypes(include=['int']).apply(pd.to_numeric,downcast='unsigned')\n",
    "comments[f.columns] = f\n",
    "f = comments.select_dtypes(include=['float']).apply(pd.to_numeric,downcast='float')\n",
    "comments[f.columns] = f\n",
    "#remove unnecessary columns\n",
    "if 'parent_id' in comments.columns:\n",
    "    comments.drop(columns=['parent_id'], inplace=True)\n",
    "comments['author'] = comments.author.astype('category')\n",
    "\n",
    "comments.shape"
   ]
  },
  {
   "cell_type": "markdown",
   "metadata": {},
   "source": [
    "#### Peaking at our data"
   ]
  },
  {
   "cell_type": "code",
   "execution_count": null,
   "metadata": {},
   "outputs": [],
   "source": [
    "comments.columns.values"
   ]
  },
  {
   "cell_type": "code",
   "execution_count": null,
   "metadata": {},
   "outputs": [],
   "source": [
    "comments.head()"
   ]
  },
  {
   "cell_type": "markdown",
   "metadata": {},
   "source": [
    "#### Helper function for plotting\n",
    "Don't worry about what's in it, just run the code and scroll down."
   ]
  },
  {
   "cell_type": "code",
   "execution_count": null,
   "metadata": {},
   "outputs": [],
   "source": [
    "def make_plot(grouped, columns='id', title=None, top=None, bottom=None, \n",
    "             events=None, agg='mean', years=[2012,2016]):\n",
    "    \n",
    "    fig, axs = plt.subplots(figsize=(14,10))\n",
    "    if bottom is not None:\n",
    "        axs.set_ylim(bottom=bottom)\n",
    "        \n",
    "    if top is not None:\n",
    "        axs.set_ylim(top=top)\n",
    "\n",
    "    if years is not None:\n",
    "        start = datetime(year=years[0], month=1, day=1)\n",
    "        end = datetime(year=years[1], month=1, day=1)\n",
    "        axs.set_xlim(left=start, right=end)\n",
    "\n",
    "    if isinstance(columns, str):\n",
    "        columns = [columns]\n",
    "        \n",
    "    if agg == 'mean':\n",
    "        for c in columns:\n",
    "            means = grouped[c].mean()\n",
    "            sems = grouped[c].sem()\n",
    "            axs.plot(means.index, means, label=c)\n",
    "            axs.fill_between(sems.index, means-(1.96*sems), \n",
    "                             means+(1.96*sems), alpha=0.5)\n",
    "        if title is None:\n",
    "            title = 'Average scores with 95% confidence interval'\n",
    "    elif agg == 'count':\n",
    "        for c in columns:\n",
    "            counts = grouped.count()[c]\n",
    "            axs.plot(counts)\n",
    "        if title is None:\n",
    "            title = 'Number of comments per month'\n",
    "    elif agg == 'unique':\n",
    "        for c in columns:\n",
    "            counts = grouped[c].nunique()\n",
    "            axs.plot(counts)\n",
    "        if title is None:\n",
    "            title = 'Number of unique ___ per month'\n",
    "            \n",
    "    if events is not None:\n",
    "        if years is not None:\n",
    "            events = events[events.date >= start]\n",
    "            events = events[events.date <= end]\n",
    "        for e in events.iterrows():\n",
    "            if e[1].event == 1:\n",
    "                axs.axvline(e[1].date, color='k', linestyle='dashed', \n",
    "                            alpha=.5)\n",
    "                spot = axs.get_ylim()[1] - axs.get_ylim()[0]\n",
    "                spot *= .1 \n",
    "                spot += axs.get_ylim()[0]\n",
    "                axs.text(e[1].date, spot, e[1].description)            \n",
    "            \n",
    "    axs.set_title(title)\n",
    "    \n",
    "    if len(columns) == 1:\n",
    "        axs.set_ylabel(columns[0])\n",
    "    else:\n",
    "        axs.legend()\n",
    "                \n",
    "    plt.show()\n",
    "    return\n",
    "\n",
    "events = [{'date': datetime(year=2014, month=5, day=7),\n",
    "          'event': 1,\n",
    "          'description': 'Default Day'}]\n",
    "events = pd.DataFrame(events)"
   ]
  },
  {
   "cell_type": "markdown",
   "metadata": {},
   "source": [
    "### Section 2: Activity over Time\n",
    "- This code puts the comments into groups: one group for every month. Then it gets the count of comments and the count of people commenting in each month. Finally, it plots them for us to see how the level of activity changes over time. "
   ]
  },
  {
   "cell_type": "code",
   "execution_count": null,
   "metadata": {},
   "outputs": [],
   "source": [
    "#Group the comments by month\n",
    "monthly = comments.resample('M', on='date')"
   ]
  },
  {
   "cell_type": "code",
   "execution_count": null,
   "metadata": {},
   "outputs": [],
   "source": [
    "make_plot(monthly, agg='count', events=events)"
   ]
  },
  {
   "cell_type": "code",
   "execution_count": null,
   "metadata": {},
   "outputs": [],
   "source": [
    "make_plot(monthly, columns='author', agg='unique', events=events)"
   ]
  },
  {
   "cell_type": "markdown",
   "metadata": {},
   "source": [
    "#### Notice anything?\n",
    "- As we expected, there's a jump up in the number of comments and users in May 2014, when it was added to the front page. \n",
    "\n",
    "### 2.1 Measuring Overall Conflict\n",
    "- If there is conflict among people in the subreddit, we might expect more posts to get deleted. \n",
    "- The first graph shows us the raw number of posts that are deleted. It looks a lot like the total number of posts, though. \n",
    "- The second graph shows us what percent of posts are deleted."
   ]
  },
  {
   "cell_type": "code",
   "execution_count": null,
   "metadata": {},
   "outputs": [],
   "source": [
    "make_plot(monthly, columns='deleted', \n",
    "          title=\"Percent of comments deleted\",\n",
    "          events=events)"
   ]
  },
  {
   "cell_type": "code",
   "execution_count": null,
   "metadata": {},
   "outputs": [],
   "source": [
    "make_plot(monthly, columns=['OBSCENE', 'TOXICITY', \n",
    "                            'ATTACK_ON_COMMENTER', \n",
    "                            'INFLAMMATORY'], \n",
    "          events=events)"
   ]
  },
  {
   "cell_type": "code",
   "execution_count": null,
   "metadata": {},
   "outputs": [],
   "source": [
    "make_plot(monthly, columns=['sentiment'], \n",
    "          events=events)"
   ]
  },
  {
   "cell_type": "markdown",
   "metadata": {},
   "source": [
    "### 2.2 Drivers of Change\n",
    "- We saw above that the community changed dramatically after it became a default community. But that leaves unanswered questions:\n",
    "    - Did everyone start behaving differently after default day?\n",
    "    - Is the change because there are different people commenting than before?\n",
    "    - Is the change because newcomers haven't adapted to the community's norms yet?  \n",
    "    - Does it matter what other communities a user is in if we want to know their behavior here?\n",
    "- Next we're going to compare users who joined before default day with those who joined after it.\n",
    "\n",
    "#### Short Answer 1:\n",
    "- Before running the code below, answer these questions with a sentence or two each:\n",
    "    - What do you think might be driving the changes in average scores that we saw above?\n",
    "    - What ways might users who joined after it was a default community be different in our measures of comment civility than the users who joined before it was a default community?"
   ]
  },
  {
   "cell_type": "markdown",
   "metadata": {},
   "source": [
    "**Write your response here:**\n",
    "...."
   ]
  },
  {
   "cell_type": "markdown",
   "metadata": {},
   "source": [
    "The helper code below labels users based on when they joined the community.\n",
    "- Don't worry about how the code in this cell works, just run it and scroll down."
   ]
  },
  {
   "cell_type": "code",
   "execution_count": null,
   "metadata": {},
   "outputs": [],
   "source": [
    "users = {}\n",
    "groups = [{'name': 'before', 'direction': 'lt',\n",
    "           'date': datetime(year=2014, month=5, day=7)},\n",
    "          {'name': 'after', 'direction': 'gt',\n",
    "           'date': datetime(year=2014, month=5, day=7)}]\n",
    "\n",
    "#select people who only posted one comment ever\n",
    "tmp = comments.groupby(by='author').count()\n",
    "users['once'] = set(tmp[tmp.id == 1].index.values)\n",
    "del tmp\n",
    "\n",
    "#select all other people, \n",
    "firsts = comments[~comments.author.isin(users['once']\n",
    "                                                 )][['author',\n",
    "                                                     'date']]\n",
    "#figure out their first post date\n",
    "firsts.sort_values(by='date', inplace=True)\n",
    "firsts.drop_duplicates(subset='author', keep='first', inplace=True)\n",
    "\n",
    "#select the users in each group\n",
    "for g in groups:\n",
    "    if g['direction'] == 'lt':\n",
    "        users[g['name']] = set(firsts[firsts.date < g['date']].author)\n",
    "    elif g['direction'] == 'gt':\n",
    "        users[g['name']] = set(firsts[firsts.date > g['date']].author)\n",
    "\n",
    "def get_cohort(user):\n",
    "    c = np.nan\n",
    "    # these need to be in chronological order\n",
    "    cohorts = ['once', 'before', 'after']\n",
    "    for co in cohorts:\n",
    "        if user == '[deleted]':\n",
    "            c = np.nan\n",
    "        elif user in users[co]:\n",
    "            c = co\n",
    "    \n",
    "    return c\n",
    "\n",
    "#label the comments by their author's cohort\n",
    "comments['cohort'] = comments.author.apply(get_cohort)\n",
    "\n",
    "del users\n",
    "\n",
    "#group comments by both date and cohort\n",
    "cohorts = comments.groupby(by='cohort').resample('M', on='date')"
   ]
  },
  {
   "cell_type": "code",
   "execution_count": null,
   "metadata": {},
   "outputs": [],
   "source": [
    "def plot_users(grouped, column='id', title=None, top=None, \n",
    "               bottom=None, events=None, agg='mean', \n",
    "               years=[2012,2016], cohorts='once'):\n",
    "    \n",
    "    fig, axs = plt.subplots(figsize=(14,10))\n",
    "    if bottom is not None:\n",
    "        axs.set_ylim(bottom=bottom)\n",
    "    if top is not None:\n",
    "        axs.set_ylim(top=top)\n",
    "    \n",
    "    if years is not None:\n",
    "        start = datetime(year=years[0], month=1, day=1)\n",
    "        end = datetime(year=years[1], month=1, day=1)\n",
    "        axs.set_xlim(left=start, right=end)\n",
    "                \n",
    "    if isinstance(cohorts, str):\n",
    "        cohorts = [cohorts]\n",
    "        \n",
    "    if agg == 'mean':\n",
    "        means = grouped.mean()\n",
    "        sems = grouped.sem()\n",
    "        for c in cohorts:\n",
    "            axs.plot(means[column][c].index, \n",
    "                     means[column][c],\n",
    "                     label=c)\n",
    "            axs.fill_between(sems[column][c].index, \n",
    "                             means[column][c]-(1.96*sems[column][c]), \n",
    "                             means[column][c]+(1.96*sems[column][c]), \n",
    "                             alpha=0.5)\n",
    "        if title is None:\n",
    "            title = 'Average '+column+' with 95% confidence interval'\n",
    "    elif agg == 'count':\n",
    "        counts = grouped.count()\n",
    "        for c in cohorts:\n",
    "            axs.plot(counts[column][c], \n",
    "                     label=c)\n",
    "        if title is None:\n",
    "            title = 'Number of comments per month'\n",
    "    elif agg == 'unique':\n",
    "        counts = grouped.nunique()\n",
    "        for c in cohorts:\n",
    "            axs.plot(counts[column][c], \n",
    "                     label=c)\n",
    "        if title is None:\n",
    "            title = 'Number of unique ___ per month'\n",
    "            \n",
    "    if events is not None:\n",
    "        if years is not None:\n",
    "            events = events[events.date >= start]\n",
    "            events = events[events.date <= end]\n",
    "        for e in events.iterrows():\n",
    "            if e[1].event == 1:\n",
    "                axs.axvline(e[1].date, color='k', linestyle='dashed', \n",
    "                            alpha=.5)\n",
    "                spot = axs.get_ylim()[1] - axs.get_ylim()[0]\n",
    "                spot *= .1 \n",
    "                spot += axs.get_ylim()[0]\n",
    "                axs.text(e[1].date, spot, e[1].description) \n",
    "            \n",
    "    axs.set_title(title)\n",
    "    axs.set_ylabel(column)\n",
    "       \n",
    "    axs.legend()\n",
    "                \n",
    "    plt.show()\n",
    "    return"
   ]
  },
  {
   "cell_type": "markdown",
   "metadata": {},
   "source": [
    "### 2.3 Joining after Default Day\n",
    "\n",
    "#### What fraction of posts were made by people who joined before vs after default day?"
   ]
  },
  {
   "cell_type": "code",
   "execution_count": null,
   "metadata": {},
   "outputs": [],
   "source": [
    "plot_users(cohorts, column='id', \n",
    "           cohorts=['before', 'after'], \n",
    "           agg='count', \n",
    "           events=events)"
   ]
  },
  {
   "cell_type": "markdown",
   "metadata": {},
   "source": [
    "#### What does each group's posting behavior look like?"
   ]
  },
  {
   "cell_type": "code",
   "execution_count": null,
   "metadata": {},
   "outputs": [],
   "source": [
    "plot_users(cohorts, column='TOXICITY', \n",
    "           cohorts=['before', 'after'], \n",
    "           events=events)"
   ]
  },
  {
   "cell_type": "code",
   "execution_count": null,
   "metadata": {},
   "outputs": [],
   "source": [
    "plot_users(cohorts, column='ATTACK_ON_COMMENTER', \n",
    "           cohorts=['before', 'after'], \n",
    "           events=events)"
   ]
  },
  {
   "cell_type": "code",
   "execution_count": null,
   "metadata": {},
   "outputs": [],
   "source": [
    "plot_users(cohorts, column='INFLAMMATORY', \n",
    "           cohorts=['before', 'after'], \n",
    "           events=events)"
   ]
  },
  {
   "cell_type": "markdown",
   "metadata": {},
   "source": [
    "#### Short Answer 2:\n",
    "- Write a sentence or two for each question:\n",
    "    1. Were the people who came to the community after default day different than those who came to the community before it?\n",
    "    2. How do these graphs compare with what you predicted before you looked?\n",
    "    3. Did either group seem to contribute more to the overall changes in the community we saw in the beginning?"
   ]
  },
  {
   "cell_type": "markdown",
   "metadata": {},
   "source": [
    "**Write your response here:**\n",
    "...."
   ]
  },
  {
   "cell_type": "markdown",
   "metadata": {},
   "source": [
    "### 2.4 Being New to the Community\n",
    "Is it about new users?\n",
    "- We saw that people who joined after default day behaved differently than those who joined before. In the next section, we'll look at whether *new* users are always different than users who have been around longer. \n",
    "    - Here, we define comments from new users as comments posted within the first 7 days a user is in the community. All other comments are from \"old\" users, who have been in the community more than one week. \n",
    "- Run the helper code below and scroll down."
   ]
  },
  {
   "cell_type": "code",
   "execution_count": null,
   "metadata": {},
   "outputs": [],
   "source": [
    "firsts = firsts[firsts.author != '[deleted]']\n",
    "\n",
    "tmp = comments[['author', 'date']].merge(firsts, \n",
    "                                              how='left', \n",
    "                                              on='author',\n",
    "                                             )\n",
    "tmp = (tmp.date_x - tmp.date_y) < timedelta(days=7)\n",
    "comments['new_user'] = tmp.replace({True: 'new', False:'old'})\n",
    "\n",
    "del tmp\n",
    "del firsts\n",
    "\n",
    "#group comments by both date and cohort\n",
    "newbies = comments.groupby(by='new_user').resample('M', on='date')"
   ]
  },
  {
   "cell_type": "code",
   "execution_count": null,
   "metadata": {},
   "outputs": [],
   "source": [
    "plot_users(newbies, column='TOXICITY', \n",
    "           cohorts=['old', 'new'], \n",
    "           events=events)"
   ]
  },
  {
   "cell_type": "code",
   "execution_count": null,
   "metadata": {},
   "outputs": [],
   "source": [
    "plot_users(newbies, column='ATTACK_ON_COMMENTER', \n",
    "           cohorts=['old', 'new'], \n",
    "           events=events)"
   ]
  },
  {
   "cell_type": "code",
   "execution_count": null,
   "metadata": {},
   "outputs": [],
   "source": [
    "plot_users(newbies, column='INFLAMMATORY', \n",
    "           cohorts=['old', 'new'], \n",
    "           events=events)"
   ]
  },
  {
   "cell_type": "markdown",
   "metadata": {},
   "source": [
    "#### Short Answer 3:\n",
    "Answer these questions in a few sentences each:\n",
    "- Are comments from people who just joined the community different than comments from users who have been members longer?\n",
    "- How do these graphs compare with what you predicted before you looked?\n",
    "- Did either group contribute more to the overall changes in the community we saw in the beginning?\n",
    "- What do these comparisons tell us?\n",
    "- Overall, what happened in this community on default day?\n",
    "- How are users who joined after default day different from those who joined before?\n",
    "- How did users who joined before default day change when it was made a default subreddit? \n",
    "    - In what ways did they stay the same?\n",
    "    "
   ]
  },
  {
   "cell_type": "markdown",
   "metadata": {},
   "source": [
    "**Write your response here:**\n",
    "...."
   ]
  }
 ],
 "metadata": {
  "kernelspec": {
   "display_name": "Python 3 (ipykernel)",
   "language": "python",
   "name": "python3"
  },
  "language_info": {
   "codemirror_mode": {
    "name": "ipython",
    "version": 3
   },
   "file_extension": ".py",
   "mimetype": "text/x-python",
   "name": "python",
   "nbconvert_exporter": "python",
   "pygments_lexer": "ipython3",
   "version": "3.8.10"
  }
 },
 "nbformat": 4,
 "nbformat_minor": 4
}
