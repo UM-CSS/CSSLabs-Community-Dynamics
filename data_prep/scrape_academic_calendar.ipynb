{
 "cells": [
  {
   "cell_type": "markdown",
   "metadata": {},
   "source": [
    "# Web scraper for UM academic calendar data\n",
    "\n",
    "@Author: [Jeff Lockhart](http://www-personal.umich.edu/~jwlock/)"
   ]
  },
  {
   "cell_type": "code",
   "execution_count": null,
   "metadata": {},
   "outputs": [],
   "source": [
    "import pandas as pd\n",
    "from bs4 import BeautifulSoup\n",
    "import requests\n",
    "import time\n",
    "import re"
   ]
  },
  {
   "cell_type": "markdown",
   "metadata": {},
   "source": [
    "Example URLs: \n",
    "\n",
    "- http://ro.umich.edu/calendar/ss17.php\n",
    "- http://ro.umich.edu/calendar/fa18.php\n",
    "- http://ro.umich.edu/calendar/wn10.php"
   ]
  },
  {
   "cell_type": "code",
   "execution_count": null,
   "metadata": {},
   "outputs": [],
   "source": [
    "def exam(txt):\n",
    "    txt = str(txt).lower()\n",
    "    result = 0\n",
    "    if 'exam' in txt:\n",
    "        result = 1\n",
    "    return result\n",
    "\n",
    "def class_start(txt):\n",
    "    txt = str(txt).lower()\n",
    "    result = 0\n",
    "    if 'classes' in txt:\n",
    "        if 'begin' in txt:\n",
    "            result = 1\n",
    "        elif 'resume' in txt:\n",
    "            result = 1\n",
    "    return result\n",
    "\n",
    "def class_stop(txt):\n",
    "    txt = str(txt).lower()\n",
    "    result = 0\n",
    "    if 'classes' in txt:\n",
    "        if 'end' in txt:\n",
    "            result = 1\n",
    "    elif 'recess' in txt:\n",
    "        result = 1\n",
    "    elif 'vacation' in txt:\n",
    "        if 'begin' in txt:\n",
    "            result = 1\n",
    "    return result\n",
    "\n",
    "def get_dates(txt, y):\n",
    "    date = None\n",
    "    m = re.search('^(\\w+\\s\\d+)', str(txt))\n",
    "    if m:\n",
    "        date = m.group(1)\n",
    "        date += ', '+str(y)\n",
    "        date = pd.to_datetime(date)\n",
    "    \n",
    "    return date\n",
    "\n",
    "def get_table(page, y):\n",
    "    #parse page with bs4\n",
    "    soup = BeautifulSoup(page, 'html.parser')\n",
    "    #select just the table of interest\n",
    "    table = soup.find('table')\n",
    "\n",
    "    labels = ['event', 'times']\n",
    "    data = []\n",
    "    rows = table.find_all('tr')\n",
    "    #each row is a game\n",
    "    for r in rows:\n",
    "        tmp = {}\n",
    "        \n",
    "        for i, txt in enumerate(r.find_all('td')):\n",
    "            tmp[labels[i]] = txt.text\n",
    "\n",
    "        data.append(tmp)\n",
    "    #convert our findings to a dataframe\n",
    "    df = pd.DataFrame(data)\n",
    "\n",
    "    \n",
    "    df['date'] = df.times.apply(get_dates, y=y)\n",
    "    df['exams'] = df.event.apply(exam)\n",
    "    df['class_start'] = df.event.apply(class_start)\n",
    "    df['class_stop'] = df.event.apply(class_stop)\n",
    "    \n",
    "    #drop the pesky null rows\n",
    "    df = df.dropna(axis=0, how='any')\n",
    "    \n",
    "    return df"
   ]
  },
  {
   "cell_type": "code",
   "execution_count": null,
   "metadata": {},
   "outputs": [],
   "source": [
    "df = pd.DataFrame()\n",
    "\n",
    "terms = ['fa', 'wn']\n",
    "years = range(2003, 2019)\n",
    "base_url = 'http://ro.umich.edu/calendar/'\n",
    "end_url = '.php'\n",
    "\n",
    "for y in years:\n",
    "    for t in terms:\n",
    "        #get the page for this term\n",
    "        url = base_url+t+str(y)[2:]+end_url\n",
    "        r = requests.get(url)\n",
    "\n",
    "        #if the page exists\n",
    "        if r.status_code == 200:\n",
    "            print('Processing', url)\n",
    "            tmp = get_table(r.content, y)\n",
    "            df = pd.concat([df, tmp])\n",
    "        else:\n",
    "            #some years don't have data. Ignore them and move on.\n",
    "            print('Error with', url)\n",
    "\n",
    "        #wait to be a polite lil spider\n",
    "        time.sleep(2)\n",
    "    \n",
    "df.shape"
   ]
  },
  {
   "cell_type": "code",
   "execution_count": null,
   "metadata": {},
   "outputs": [],
   "source": [
    "df.head()"
   ]
  },
  {
   "cell_type": "code",
   "execution_count": null,
   "metadata": {},
   "outputs": [],
   "source": [
    "#sort our data and peak at it.\n",
    "df = df.sort_values(by='date')\n",
    "df.head()"
   ]
  },
  {
   "cell_type": "code",
   "execution_count": null,
   "metadata": {},
   "outputs": [],
   "source": [
    "df.to_csv('../data/UM_academic_calendar_no_summer.tsv', \n",
    "          sep='\\t', index=False)"
   ]
  },
  {
   "cell_type": "code",
   "execution_count": null,
   "metadata": {},
   "outputs": [],
   "source": [
    "data = []\n",
    "tmp = {}\n",
    "\n",
    "for r in df.iterrows():\n",
    "    if r[1].class_start == 1:\n",
    "        data.append(tmp)\n",
    "        tmp = {}\n",
    "        tmp['class_start'] = r[1].date\n",
    "    elif r[1].class_stop == 1:\n",
    "        tmp['class_end'] = r[1].date\n",
    "        \n",
    "classes = pd.DataFrame(data)\n",
    "classes = classes[['class_start', 'class_end']]\n",
    "classes = classes.dropna(axis=0)\n",
    "classes"
   ]
  },
  {
   "cell_type": "code",
   "execution_count": null,
   "metadata": {},
   "outputs": [],
   "source": [
    "classes.to_csv('../data/UM_class_periods_no_summer.tsv', \n",
    "          sep='\\t', index=False)"
   ]
  },
  {
   "cell_type": "code",
   "execution_count": null,
   "metadata": {},
   "outputs": [],
   "source": [
    "terms = ['ss']\n",
    "years = range(2003, 2019)\n",
    "base_url = 'http://ro.umich.edu/calendar/'\n",
    "end_url = '.php'\n",
    "\n",
    "for y in years:\n",
    "    for t in terms:\n",
    "        #get the page for this term\n",
    "        url = base_url+t+str(y)[2:]+end_url\n",
    "        r = requests.get(url)\n",
    "\n",
    "        #if the page exists\n",
    "        if r.status_code == 200:\n",
    "            print('Processing', url)\n",
    "            tmp = get_table(r.content, y)\n",
    "            df = pd.concat([df, tmp])\n",
    "        else:\n",
    "            #some years don't have data. Ignore them and move on.\n",
    "            print('Error with', url)\n",
    "\n",
    "        #wait to be a polite lil spider\n",
    "        time.sleep(2)\n",
    "    \n",
    "df.shape"
   ]
  },
  {
   "cell_type": "code",
   "execution_count": null,
   "metadata": {},
   "outputs": [],
   "source": [
    "#sort our data and peak at it.\n",
    "df = df.sort_values(by='date')\n",
    "df.head()"
   ]
  },
  {
   "cell_type": "code",
   "execution_count": null,
   "metadata": {},
   "outputs": [],
   "source": [
    "df.to_csv('../data/UM_academic_calendar.tsv', sep='\\t', index=False)"
   ]
  },
  {
   "cell_type": "code",
   "execution_count": null,
   "metadata": {},
   "outputs": [],
   "source": [
    "data = []\n",
    "tmp = {}\n",
    "\n",
    "for r in df.iterrows():\n",
    "    if r[1].class_start == 1:\n",
    "        data.append(tmp)\n",
    "        tmp = {}\n",
    "        tmp['class_start'] = r[1].date\n",
    "    elif r[1].class_stop == 1:\n",
    "        tmp['class_end'] = r[1].date\n",
    "        \n",
    "classes = pd.DataFrame(data)\n",
    "classes = classes[['class_start', 'class_end']]\n",
    "classes = classes.dropna(axis=0)\n",
    "classes"
   ]
  },
  {
   "cell_type": "code",
   "execution_count": null,
   "metadata": {},
   "outputs": [],
   "source": [
    "classes.to_csv('../data/UM_class_periods.tsv', sep='\\t', index=False)"
   ]
  },
  {
   "cell_type": "code",
   "execution_count": null,
   "metadata": {},
   "outputs": [],
   "source": [
    "df[df.date.dt.year == 2015]"
   ]
  },
  {
   "cell_type": "code",
   "execution_count": null,
   "metadata": {},
   "outputs": [],
   "source": [
    "classes[classes.class_start.dt.year == 2014]"
   ]
  },
  {
   "cell_type": "code",
   "execution_count": null,
   "metadata": {},
   "outputs": [],
   "source": []
  }
 ],
 "metadata": {
  "kernelspec": {
   "display_name": "Python 3",
   "language": "python",
   "name": "python3"
  },
  "language_info": {
   "codemirror_mode": {
    "name": "ipython",
    "version": 3
   },
   "file_extension": ".py",
   "mimetype": "text/x-python",
   "name": "python",
   "nbconvert_exporter": "python",
   "pygments_lexer": "ipython3",
   "version": "3.6.4"
  }
 },
 "nbformat": 4,
 "nbformat_minor": 2
}
