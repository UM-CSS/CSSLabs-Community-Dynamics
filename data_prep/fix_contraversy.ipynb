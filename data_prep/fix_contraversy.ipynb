{
 "cells": [
  {
   "cell_type": "code",
   "execution_count": null,
   "metadata": {},
   "outputs": [],
   "source": [
    "import pandas as pd\n",
    "import os"
   ]
  },
  {
   "cell_type": "code",
   "execution_count": null,
   "metadata": {},
   "outputs": [],
   "source": [
    "##original function\n",
    "\n",
    "#cpdef double controversy(long ups, long downs):\n",
    "#    \"\"\"The controversy sort.\"\"\"\n",
    "#    if downs <= 0 or ups <= 0:\n",
    "#        return 0\n",
    "#\n",
    "#    magnitude = ups + downs\n",
    "#    balance = float(downs) / ups if ups > downs else float(ups) / downs\n",
    "#\n",
    "#    return magnitude ** balance\n",
    "\n",
    "## python version\n",
    "\n",
    "def controversy(ups, downs):\n",
    "    if downs <= 0 or ups <= 0:\n",
    "        return 0\n",
    "\n",
    "    magnitude = ups + downs\n",
    "    balance = downs / ups if ups > downs else ups / downs\n",
    "\n",
    "    return magnitude ** balance\n",
    "\n",
    "def controversy2(row):\n",
    "    return controversy(row.ups, row.downs)"
   ]
  },
  {
   "cell_type": "code",
   "execution_count": null,
   "metadata": {},
   "outputs": [],
   "source": [
    "df = pd.read_csv('../sampled/CatGifs.tsv', sep='\\t')\n",
    "df.head()"
   ]
  },
  {
   "cell_type": "code",
   "execution_count": null,
   "metadata": {},
   "outputs": [],
   "source": [
    "df.columns.values"
   ]
  },
  {
   "cell_type": "code",
   "execution_count": null,
   "metadata": {},
   "outputs": [],
   "source": [
    "df[['controversiality', 'ups', 'downs']].describe()"
   ]
  },
  {
   "cell_type": "code",
   "execution_count": null,
   "metadata": {},
   "outputs": [],
   "source": [
    "df['new_controversiality'] = df.apply(controversy2, axis=1)\n",
    "df[['new_controversiality', 'controversiality', 'ups', 'downs']].describe()"
   ]
  },
  {
   "cell_type": "code",
   "execution_count": null,
   "metadata": {},
   "outputs": [],
   "source": []
  },
  {
   "cell_type": "code",
   "execution_count": null,
   "metadata": {},
   "outputs": [],
   "source": [
    "d = ''\n",
    "\n",
    "files = os.listdir(d)\n",
    "\n",
    "for f in files:\n",
    "    if f.endswith('.tsv')\n",
    "    df = pd.read_csv(d+f, sep='\\t')\n",
    "    "
   ]
  }
 ],
 "metadata": {
  "kernelspec": {
   "display_name": "Python 3",
   "language": "python",
   "name": "python3"
  },
  "language_info": {
   "codemirror_mode": {
    "name": "ipython",
    "version": 3
   },
   "file_extension": ".py",
   "mimetype": "text/x-python",
   "name": "python",
   "nbconvert_exporter": "python",
   "pygments_lexer": "ipython3",
   "version": "3.6.4"
  }
 },
 "nbformat": 4,
 "nbformat_minor": 2
}
