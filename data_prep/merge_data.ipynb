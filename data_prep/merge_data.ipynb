{
 "cells": [
  {
   "cell_type": "code",
   "execution_count": 1,
   "metadata": {},
   "outputs": [],
   "source": [
    "import pandas as pd\n",
    "import numpy as np\n",
    "import os"
   ]
  },
  {
   "cell_type": "code",
   "execution_count": 2,
   "metadata": {},
   "outputs": [
    {
     "data": {
      "text/plain": [
       "{'.ipynb_checkpoints',\n",
       " 'CatGifs.tsv',\n",
       " 'CatsStandingUp.tsv',\n",
       " 'Dogtraining.tsv',\n",
       " 'FULLCOMMUNISM.tsv',\n",
       " 'GreenParty.tsv',\n",
       " 'Liberal.tsv',\n",
       " 'Libertarian_short.tsv',\n",
       " 'NeutralPolitics.tsv',\n",
       " 'OSU.tsv',\n",
       " 'Republican.tsv',\n",
       " 'StartledCats.tsv',\n",
       " 'TrollXChromosomes_short.tsv',\n",
       " 'TwoXChromosomes.part',\n",
       " 'TwoXChromosomes.tsv',\n",
       " 'TwoXChromosomes_short.tsv',\n",
       " 'cats.tsv',\n",
       " 'communism.tsv',\n",
       " 'democrats.tsv',\n",
       " 'demsocialist.tsv',\n",
       " 'dogpictures.tsv',\n",
       " 'dogs_short.tsv',\n",
       " 'msu.tsv',\n",
       " 'nohup.out',\n",
       " 'progressive.tsv',\n",
       " 'puppies.tsv',\n",
       " 'republicans.tsv',\n",
       " 'socialism.tsv',\n",
       " 'socialism_short.tsv',\n",
       " 'uofm.tsv'}"
      ]
     },
     "execution_count": 2,
     "metadata": {},
     "output_type": "execute_result"
    }
   ],
   "source": [
    "perspective_files = os.listdir('../data/perspective/')\n",
    "politeness_files = os.listdir('../data/politeness/')\n",
    "sentiment_files = os.listdir('../data/sentiment/')\n",
    "\n",
    "all_files = set(perspective_files + politeness_files)\n",
    "all_files"
   ]
  },
  {
   "cell_type": "code",
   "execution_count": 3,
   "metadata": {},
   "outputs": [
    {
     "data": {
      "text/plain": [
       "{'CatGifs.tsv': ['../data/perspective/',\n",
       "  '../data/politeness/',\n",
       "  '../data/sentiment/'],\n",
       " 'CatsStandingUp.tsv': ['../data/perspective/',\n",
       "  '../data/politeness/',\n",
       "  '../data/sentiment/'],\n",
       " 'Dogtraining.tsv': ['../data/perspective/', '../data/sentiment/'],\n",
       " 'FULLCOMMUNISM.tsv': ['../data/perspective/', '../data/sentiment/'],\n",
       " 'GreenParty.tsv': ['../data/perspective/',\n",
       "  '../data/politeness/',\n",
       "  '../data/sentiment/'],\n",
       " 'Liberal.tsv': ['../data/perspective/',\n",
       "  '../data/politeness/',\n",
       "  '../data/sentiment/'],\n",
       " 'Libertarian_short.tsv': ['../data/perspective/',\n",
       "  '../data/politeness/',\n",
       "  '../data/sentiment/'],\n",
       " 'NeutralPolitics.tsv': ['../data/perspective/', '../data/sentiment/'],\n",
       " 'OSU.tsv': ['../data/perspective/',\n",
       "  '../data/politeness/',\n",
       "  '../data/sentiment/'],\n",
       " 'Republican.tsv': ['../data/perspective/', '../data/sentiment/'],\n",
       " 'StartledCats.tsv': ['../data/perspective/',\n",
       "  '../data/politeness/',\n",
       "  '../data/sentiment/'],\n",
       " 'TrollXChromosomes_short.tsv': ['../data/perspective/',\n",
       "  '../data/politeness/',\n",
       "  '../data/sentiment/'],\n",
       " 'TwoXChromosomes.tsv': ['../data/perspective/', '../data/sentiment/'],\n",
       " 'TwoXChromosomes_short.tsv': ['../data/perspective/',\n",
       "  '../data/politeness/',\n",
       "  '../data/sentiment/'],\n",
       " 'cats.tsv': ['../data/perspective/',\n",
       "  '../data/politeness/',\n",
       "  '../data/sentiment/'],\n",
       " 'communism.tsv': ['../data/perspective/',\n",
       "  '../data/politeness/',\n",
       "  '../data/sentiment/'],\n",
       " 'democrats.tsv': ['../data/perspective/',\n",
       "  '../data/politeness/',\n",
       "  '../data/sentiment/'],\n",
       " 'demsocialist.tsv': ['../data/perspective/',\n",
       "  '../data/politeness/',\n",
       "  '../data/sentiment/'],\n",
       " 'dogpictures.tsv': ['../data/perspective/',\n",
       "  '../data/politeness/',\n",
       "  '../data/sentiment/'],\n",
       " 'dogs_short.tsv': ['../data/perspective/',\n",
       "  '../data/politeness/',\n",
       "  '../data/sentiment/'],\n",
       " 'msu.tsv': ['../data/perspective/',\n",
       "  '../data/politeness/',\n",
       "  '../data/sentiment/'],\n",
       " 'progressive.tsv': ['../data/perspective/',\n",
       "  '../data/politeness/',\n",
       "  '../data/sentiment/'],\n",
       " 'puppies.tsv': ['../data/perspective/',\n",
       "  '../data/politeness/',\n",
       "  '../data/sentiment/'],\n",
       " 'republicans.tsv': ['../data/perspective/',\n",
       "  '../data/politeness/',\n",
       "  '../data/sentiment/'],\n",
       " 'socialism.tsv': ['../data/perspective/', '../data/sentiment/'],\n",
       " 'socialism_short.tsv': ['../data/perspective/',\n",
       "  '../data/politeness/',\n",
       "  '../data/sentiment/'],\n",
       " 'uofm.tsv': ['../data/perspective/',\n",
       "  '../data/politeness/',\n",
       "  '../data/sentiment/']}"
      ]
     },
     "execution_count": 3,
     "metadata": {},
     "output_type": "execute_result"
    }
   ],
   "source": [
    "to_merge = {}\n",
    "\n",
    "for f in all_files:\n",
    "    if f.endswith('.tsv'):\n",
    "        tmp = []\n",
    "        if f in perspective_files:\n",
    "            tmp.append('../data/perspective/')\n",
    "        if f in politeness_files:\n",
    "            tmp.append('../data/politeness/')\n",
    "        if f in sentiment_files:\n",
    "            tmp.append('../data/sentiment/')\n",
    "        to_merge[f] = tmp\n",
    "to_merge"
   ]
  },
  {
   "cell_type": "code",
   "execution_count": 4,
   "metadata": {},
   "outputs": [
    {
     "data": {
      "text/plain": [
       "array(['approved_at_utc', 'approved_by', 'archived', 'author',\n",
       "       'author_cakeday', 'author_flair_css_class', 'author_flair_text',\n",
       "       'banned_at_utc', 'banned_by', 'body', 'can_gild', 'can_mod_post',\n",
       "       'collapsed', 'collapsed_reason', 'controversiality', 'created',\n",
       "       'created_utc', 'distinguished', 'downs', 'edited', 'gilded', 'id',\n",
       "       'is_submitter', 'likes', 'link_id', 'name', 'num_reports',\n",
       "       'parent_id', 'removal_reason', 'replies', 'report_reasons',\n",
       "       'retrieved_on', 'saved', 'score', 'score_hidden', 'stickied',\n",
       "       'subreddit', 'subreddit_id', 'ups', 'politeness'], dtype=object)"
      ]
     },
     "execution_count": 4,
     "metadata": {},
     "output_type": "execute_result"
    }
   ],
   "source": [
    "tmp = pd.read_csv('../data/politeness/CatGifs.tsv', sep='\\t')\n",
    "tmp.columns.values"
   ]
  },
  {
   "cell_type": "code",
   "execution_count": 6,
   "metadata": {},
   "outputs": [
    {
     "name": "stdout",
     "output_type": "stream",
     "text": [
      "msu.tsv\n"
     ]
    },
    {
     "name": "stderr",
     "output_type": "stream",
     "text": [
      "/home/jwlock/anaconda3/lib/python3.6/site-packages/IPython/core/interactiveshell.py:2728: DtypeWarning: Columns (5,18,33) have mixed types. Specify dtype option on import or set low_memory=False.\n",
      "  interactivity=interactivity, compiler=compiler, result=result)\n",
      "/home/jwlock/anaconda3/lib/python3.6/site-packages/IPython/core/interactiveshell.py:2728: DtypeWarning: Columns (4,17,32) have mixed types. Specify dtype option on import or set low_memory=False.\n",
      "  interactivity=interactivity, compiler=compiler, result=result)\n"
     ]
    },
    {
     "name": "stdout",
     "output_type": "stream",
     "text": [
      "socialism.tsv\n"
     ]
    },
    {
     "name": "stderr",
     "output_type": "stream",
     "text": [
      "/home/jwlock/anaconda3/lib/python3.6/site-packages/IPython/core/interactiveshell.py:2728: DtypeWarning: Columns (5,12,33) have mixed types. Specify dtype option on import or set low_memory=False.\n",
      "  interactivity=interactivity, compiler=compiler, result=result)\n",
      "/home/jwlock/anaconda3/lib/python3.6/site-packages/IPython/core/interactiveshell.py:2728: DtypeWarning: Columns (4,11,32) have mixed types. Specify dtype option on import or set low_memory=False.\n",
      "  interactivity=interactivity, compiler=compiler, result=result)\n"
     ]
    },
    {
     "name": "stdout",
     "output_type": "stream",
     "text": [
      "demsocialist.tsv\n",
      "dogpictures.tsv\n"
     ]
    },
    {
     "name": "stderr",
     "output_type": "stream",
     "text": [
      "/home/jwlock/anaconda3/lib/python3.6/site-packages/IPython/core/interactiveshell.py:2728: DtypeWarning: Columns (7,33) have mixed types. Specify dtype option on import or set low_memory=False.\n",
      "  interactivity=interactivity, compiler=compiler, result=result)\n",
      "/home/jwlock/anaconda3/lib/python3.6/site-packages/IPython/core/interactiveshell.py:2728: DtypeWarning: Columns (6,32) have mixed types. Specify dtype option on import or set low_memory=False.\n",
      "  interactivity=interactivity, compiler=compiler, result=result)\n"
     ]
    },
    {
     "name": "stdout",
     "output_type": "stream",
     "text": [
      "TrollXChromosomes_short.tsv\n"
     ]
    },
    {
     "name": "stderr",
     "output_type": "stream",
     "text": [
      "/home/jwlock/anaconda3/lib/python3.6/site-packages/IPython/core/interactiveshell.py:2728: DtypeWarning: Columns (3,5,11,12,13,14,18,23,26,33,35,36) have mixed types. Specify dtype option on import or set low_memory=False.\n",
      "  interactivity=interactivity, compiler=compiler, result=result)\n",
      "/home/jwlock/anaconda3/lib/python3.6/site-packages/IPython/core/interactiveshell.py:2728: DtypeWarning: Columns (2,4,10,11,12,13,17,22,25,32,34,35) have mixed types. Specify dtype option on import or set low_memory=False.\n",
      "  interactivity=interactivity, compiler=compiler, result=result)\n"
     ]
    },
    {
     "name": "stdout",
     "output_type": "stream",
     "text": [
      "TwoXChromosomes_short.tsv\n"
     ]
    },
    {
     "name": "stderr",
     "output_type": "stream",
     "text": [
      "/home/jwlock/anaconda3/lib/python3.6/site-packages/IPython/core/interactiveshell.py:2728: DtypeWarning: Columns (3,5,6,7,11,12,13,14,23,26,33,35,36) have mixed types. Specify dtype option on import or set low_memory=False.\n",
      "  interactivity=interactivity, compiler=compiler, result=result)\n",
      "/home/jwlock/anaconda3/lib/python3.6/site-packages/IPython/core/interactiveshell.py:2728: DtypeWarning: Columns (2,4,5,6,10,11,12,13,22,25,32,34,35) have mixed types. Specify dtype option on import or set low_memory=False.\n",
      "  interactivity=interactivity, compiler=compiler, result=result)\n"
     ]
    },
    {
     "name": "stdout",
     "output_type": "stream",
     "text": [
      "Liberal.tsv\n"
     ]
    },
    {
     "name": "stderr",
     "output_type": "stream",
     "text": [
      "/home/jwlock/anaconda3/lib/python3.6/site-packages/IPython/core/interactiveshell.py:2728: DtypeWarning: Columns (33) have mixed types. Specify dtype option on import or set low_memory=False.\n",
      "  interactivity=interactivity, compiler=compiler, result=result)\n",
      "/home/jwlock/anaconda3/lib/python3.6/site-packages/IPython/core/interactiveshell.py:2728: DtypeWarning: Columns (32) have mixed types. Specify dtype option on import or set low_memory=False.\n",
      "  interactivity=interactivity, compiler=compiler, result=result)\n"
     ]
    },
    {
     "name": "stdout",
     "output_type": "stream",
     "text": [
      "progressive.tsv\n"
     ]
    },
    {
     "name": "stderr",
     "output_type": "stream",
     "text": [
      "/home/jwlock/anaconda3/lib/python3.6/site-packages/IPython/core/interactiveshell.py:2728: DtypeWarning: Columns (5,7,33) have mixed types. Specify dtype option on import or set low_memory=False.\n",
      "  interactivity=interactivity, compiler=compiler, result=result)\n",
      "/home/jwlock/anaconda3/lib/python3.6/site-packages/IPython/core/interactiveshell.py:2728: DtypeWarning: Columns (4,6,32) have mixed types. Specify dtype option on import or set low_memory=False.\n",
      "  interactivity=interactivity, compiler=compiler, result=result)\n"
     ]
    },
    {
     "name": "stdout",
     "output_type": "stream",
     "text": [
      "cats.tsv\n",
      "Republican.tsv\n"
     ]
    },
    {
     "name": "stderr",
     "output_type": "stream",
     "text": [
      "/home/jwlock/anaconda3/lib/python3.6/site-packages/IPython/core/interactiveshell.py:2728: DtypeWarning: Columns (5,6,33) have mixed types. Specify dtype option on import or set low_memory=False.\n",
      "  interactivity=interactivity, compiler=compiler, result=result)\n",
      "/home/jwlock/anaconda3/lib/python3.6/site-packages/IPython/core/interactiveshell.py:2728: DtypeWarning: Columns (4,5,32) have mixed types. Specify dtype option on import or set low_memory=False.\n",
      "  interactivity=interactivity, compiler=compiler, result=result)\n"
     ]
    },
    {
     "name": "stdout",
     "output_type": "stream",
     "text": [
      "uofm.tsv\n"
     ]
    },
    {
     "name": "stderr",
     "output_type": "stream",
     "text": [
      "/home/jwlock/anaconda3/lib/python3.6/site-packages/IPython/core/interactiveshell.py:2728: DtypeWarning: Columns (5,12,14,18,33) have mixed types. Specify dtype option on import or set low_memory=False.\n",
      "  interactivity=interactivity, compiler=compiler, result=result)\n",
      "/home/jwlock/anaconda3/lib/python3.6/site-packages/IPython/core/interactiveshell.py:2728: DtypeWarning: Columns (4,11,13,17,32) have mixed types. Specify dtype option on import or set low_memory=False.\n",
      "  interactivity=interactivity, compiler=compiler, result=result)\n"
     ]
    },
    {
     "name": "stdout",
     "output_type": "stream",
     "text": [
      "puppies.tsv\n",
      "CatsStandingUp.tsv\n"
     ]
    },
    {
     "name": "stderr",
     "output_type": "stream",
     "text": [
      "/home/jwlock/anaconda3/lib/python3.6/site-packages/IPython/core/interactiveshell.py:2728: DtypeWarning: Columns (6,7,33) have mixed types. Specify dtype option on import or set low_memory=False.\n",
      "  interactivity=interactivity, compiler=compiler, result=result)\n",
      "/home/jwlock/anaconda3/lib/python3.6/site-packages/IPython/core/interactiveshell.py:2728: DtypeWarning: Columns (5,6,32) have mixed types. Specify dtype option on import or set low_memory=False.\n",
      "  interactivity=interactivity, compiler=compiler, result=result)\n"
     ]
    },
    {
     "name": "stdout",
     "output_type": "stream",
     "text": [
      "Dogtraining.tsv\n",
      "NeutralPolitics.tsv\n",
      "FULLCOMMUNISM.tsv\n",
      "StartledCats.tsv\n",
      "Libertarian_short.tsv\n"
     ]
    },
    {
     "name": "stderr",
     "output_type": "stream",
     "text": [
      "/home/jwlock/anaconda3/lib/python3.6/site-packages/IPython/core/interactiveshell.py:2728: DtypeWarning: Columns (3,5,6,11,12,13,14,18,23,26,33,35,36) have mixed types. Specify dtype option on import or set low_memory=False.\n",
      "  interactivity=interactivity, compiler=compiler, result=result)\n",
      "/home/jwlock/anaconda3/lib/python3.6/site-packages/IPython/core/interactiveshell.py:2728: DtypeWarning: Columns (2,4,5,10,11,12,13,17,22,25,32,34,35) have mixed types. Specify dtype option on import or set low_memory=False.\n",
      "  interactivity=interactivity, compiler=compiler, result=result)\n"
     ]
    },
    {
     "name": "stdout",
     "output_type": "stream",
     "text": [
      "socialism_short.tsv\n",
      "OSU.tsv\n",
      "CatGifs.tsv\n",
      "GreenParty.tsv\n",
      "communism.tsv\n",
      "TwoXChromosomes.tsv\n"
     ]
    },
    {
     "name": "stderr",
     "output_type": "stream",
     "text": [
      "/home/jwlock/anaconda3/lib/python3.6/site-packages/IPython/core/interactiveshell.py:2728: DtypeWarning: Columns (4,10,11,12,13,22,32) have mixed types. Specify dtype option on import or set low_memory=False.\n",
      "  interactivity=interactivity, compiler=compiler, result=result)\n"
     ]
    },
    {
     "name": "stdout",
     "output_type": "stream",
     "text": [
      "democrats.tsv\n",
      "dogs_short.tsv\n",
      "republicans.tsv\n"
     ]
    }
   ],
   "source": [
    "for k,v in to_merge.items():\n",
    "    print(k)\n",
    "    df = pd.DataFrame()\n",
    "    for p in v:\n",
    "        tmp = pd.read_csv(p+k, sep='\\t')\n",
    "        if df.shape[1]==0:\n",
    "            df=tmp\n",
    "        else:\n",
    "            keep = list(set(tmp.columns.values) - set(df.columns.values))\n",
    "            keep.append('id')\n",
    "            tmp = tmp[keep]\n",
    "            df = df.merge(tmp, on='id')\n",
    "\n",
    "    if 'Unnamed: 0' in df.columns.values:\n",
    "        df.drop(columns=['Unnamed: 0'], inplace=True)\n",
    "    \n",
    "    df.to_csv('../data/merged/'+k, sep='\\t', index=False)\n",
    "    "
   ]
  },
  {
   "cell_type": "code",
   "execution_count": null,
   "metadata": {},
   "outputs": [],
   "source": [
    "print('done!')"
   ]
  },
  {
   "cell_type": "code",
   "execution_count": null,
   "metadata": {},
   "outputs": [],
   "source": []
  }
 ],
 "metadata": {
  "kernelspec": {
   "display_name": "Python 3",
   "language": "python",
   "name": "python3"
  },
  "language_info": {
   "codemirror_mode": {
    "name": "ipython",
    "version": 3
   },
   "file_extension": ".py",
   "mimetype": "text/x-python",
   "name": "python",
   "nbconvert_exporter": "python",
   "pygments_lexer": "ipython3",
   "version": "3.6.4"
  }
 },
 "nbformat": 4,
 "nbformat_minor": 2
}
