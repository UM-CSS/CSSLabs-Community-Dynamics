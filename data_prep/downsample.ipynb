{
 "cells": [
  {
   "cell_type": "code",
   "execution_count": null,
   "metadata": {},
   "outputs": [],
   "source": [
    "import pandas as pd\n",
    "import sys\n",
    "import matplotlib.pyplot as plt\n",
    "\n",
    "%matplotlib inline"
   ]
  },
  {
   "cell_type": "code",
   "execution_count": null,
   "metadata": {},
   "outputs": [],
   "source": [
    "to_shorten = ['../../sampled/TheRedPill.tsv', \n",
    "              '../../sampled/MensRights.tsv'\n",
    "             ]\n",
    "\n",
    "desired = 200000"
   ]
  },
  {
   "cell_type": "code",
   "execution_count": null,
   "metadata": {},
   "outputs": [],
   "source": [
    "def get_sample(data, desired):\n",
    "    l = len(data)\n",
    "    if l > 0:\n",
    "        if l > desired:\n",
    "            return data.sample(n=desired)\n",
    "        else:\n",
    "            return data\n",
    "    return\n",
    "\n",
    "def shorten(df, desired=150000):\n",
    "    df['date'] = pd.to_datetime(df.created_utc, unit='s')\n",
    "    df = df.set_index('date')\n",
    "    g = df.groupby(pd.Grouper(freq='D'))\n",
    "    per_group = int( desired / len(g.groups) )\n",
    "    short = g.apply(get_sample, desired=per_group)\n",
    "    return short.reset_index(drop=True)"
   ]
  },
  {
   "cell_type": "code",
   "execution_count": null,
   "metadata": {
    "scrolled": false
   },
   "outputs": [],
   "source": [
    "for f in to_shorten:\n",
    "    print(\"starting\", f)\n",
    "    df = pd.read_csv(f, sep='\\t')\n",
    "    print('done reading')\n",
    "    df = shorten(df, desired=desired)\n",
    "    name = f[:-4]+'_short.tsv'\n",
    "    df.to_csv(name, sep='\\t', index=False)"
   ]
  },
  {
   "cell_type": "code",
   "execution_count": null,
   "metadata": {},
   "outputs": [],
   "source": [
    "print('done!')"
   ]
  },
  {
   "cell_type": "code",
   "execution_count": null,
   "metadata": {},
   "outputs": [],
   "source": []
  },
  {
   "cell_type": "code",
   "execution_count": null,
   "metadata": {},
   "outputs": [],
   "source": []
  },
  {
   "cell_type": "code",
   "execution_count": null,
   "metadata": {
    "scrolled": true
   },
   "outputs": [],
   "source": [
    "df = pd.read_csv('../sampled/TrollXChromosomes.tsv', sep='\\t')"
   ]
  },
  {
   "cell_type": "code",
   "execution_count": null,
   "metadata": {},
   "outputs": [],
   "source": [
    "def get_sample(data, desired):\n",
    "    l = len(data)\n",
    "    if l > 0:\n",
    "        if l > desired:\n",
    "            return data.sample(n=desired)\n",
    "        else:\n",
    "            return data\n",
    "    return\n",
    "\n",
    "df['date'] = pd.to_datetime(df.created_utc, unit='s')\n",
    "df = df.set_index('date')\n",
    "g = df.groupby(pd.Grouper(freq='D'))\n",
    "per_group = int( desired / len(g.groups) )\n",
    "short = g.apply(get_sample, desired=per_group)\n"
   ]
  },
  {
   "cell_type": "code",
   "execution_count": null,
   "metadata": {},
   "outputs": [],
   "source": [
    "short.shape"
   ]
  },
  {
   "cell_type": "code",
   "execution_count": null,
   "metadata": {},
   "outputs": [],
   "source": [
    "short.head()"
   ]
  },
  {
   "cell_type": "code",
   "execution_count": null,
   "metadata": {},
   "outputs": [],
   "source": [
    "g['id'].count().plot(title='posts per day')"
   ]
  },
  {
   "cell_type": "code",
   "execution_count": null,
   "metadata": {},
   "outputs": [],
   "source": [
    "g2 = short.reset_index(level=[0]).groupby(pd.Grouper(freq='D'))\n",
    "g2['id'].count().plot(title='posts per day after downsampling')"
   ]
  },
  {
   "cell_type": "code",
   "execution_count": null,
   "metadata": {},
   "outputs": [],
   "source": []
  }
 ],
 "metadata": {
  "kernelspec": {
   "display_name": "Python 3",
   "language": "python",
   "name": "python3"
  },
  "language_info": {
   "codemirror_mode": {
    "name": "ipython",
    "version": 3
   },
   "file_extension": ".py",
   "mimetype": "text/x-python",
   "name": "python",
   "nbconvert_exporter": "python",
   "pygments_lexer": "ipython3",
   "version": "3.6.4"
  }
 },
 "nbformat": 4,
 "nbformat_minor": 2
}
