{
 "cells": [
  {
   "cell_type": "markdown",
   "metadata": {},
   "source": [
    "# scraper for getting football game data\n",
    "- Sadly and surprisingly there aren't any free APIs or public data set files for this.\n",
    "- All I'm interested in are end of game stats (win/loss, score, date).\n",
    "\n",
    "@Author: [Jeff Lockhart](http://www-personal.umich.edu/~jwlock/)"
   ]
  },
  {
   "cell_type": "code",
   "execution_count": null,
   "metadata": {},
   "outputs": [],
   "source": [
    "import pandas as pd\n",
    "from bs4 import BeautifulSoup\n",
    "import requests\n",
    "import time"
   ]
  },
  {
   "cell_type": "markdown",
   "metadata": {},
   "source": [
    "Example URL: \n",
    "https://www.sports-reference.com/cfb/schools/michigan/2017-schedule.html"
   ]
  },
  {
   "cell_type": "code",
   "execution_count": null,
   "metadata": {},
   "outputs": [],
   "source": [
    "def get_table(page):\n",
    "    #parse page with bs4\n",
    "    soup = BeautifulSoup(page, 'html.parser')\n",
    "    #select just the table of interest\n",
    "    table = soup.find(id='schedule')\n",
    "\n",
    "    data = []\n",
    "    rows = table.find_all('tr')\n",
    "    #each row is a game\n",
    "    for r in rows:\n",
    "        tmp = {}\n",
    "        for d in r.find_all('td'):\n",
    "            #thankfully each cell in the table has a label\n",
    "            tmp[d['data-stat']] = d.text\n",
    "        data.append(tmp)\n",
    "    #convert our findings to a dataframe\n",
    "    df = pd.DataFrame(data)\n",
    "    #drop the pesky null rows\n",
    "    df = df.dropna(axis=0, how='all')\n",
    "    #get a real date object\n",
    "    df['date'] = pd.to_datetime(df.date_game)\n",
    "    #drop these mostly empty and useless columns if they exist\n",
    "    df.drop(columns=['broadcaster', 'date_game', 'day_name'], \n",
    "            inplace=True, errors='ignore')\n",
    "    \n",
    "    return df"
   ]
  },
  {
   "cell_type": "code",
   "execution_count": null,
   "metadata": {},
   "outputs": [],
   "source": [
    "df = pd.DataFrame()\n",
    "\n",
    "years = range(1880, 2019)\n",
    "base_url = 'https://www.sports-reference.com/cfb/schools/michigan/'\n",
    "end_url = '-schedule.html'\n",
    "\n",
    "for y in years:\n",
    "    #get the page for this year\n",
    "    url = base_url+str(y)+end_url\n",
    "    r = requests.get(url)\n",
    "    \n",
    "    #if the page exists\n",
    "    if r.status_code == 200:\n",
    "        print('Processing', y)\n",
    "        tmp = get_table(r.content)\n",
    "        df = pd.concat([df, tmp])\n",
    "    else:\n",
    "        #some years don't have data. Ignore them and move on.\n",
    "        print('Error with', y)\n",
    "        \n",
    "    #wait to be a polite lil spider\n",
    "    time.sleep(2)\n",
    "    \n",
    "df.shape"
   ]
  },
  {
   "cell_type": "code",
   "execution_count": null,
   "metadata": {},
   "outputs": [],
   "source": [
    "#sort our data and peak at it.\n",
    "df = df.sort_values(by='date')\n",
    "df.head()"
   ]
  },
  {
   "cell_type": "code",
   "execution_count": null,
   "metadata": {},
   "outputs": [],
   "source": [
    "#save the data for future use.\n",
    "df.to_csv('../data/UM_football.tsv', sep='\\t', index=False)"
   ]
  },
  {
   "cell_type": "code",
   "execution_count": null,
   "metadata": {},
   "outputs": [],
   "source": [
    "#fun global stats \n",
    "df.game_result.value_counts()"
   ]
  },
  {
   "cell_type": "code",
   "execution_count": null,
   "metadata": {},
   "outputs": [],
   "source": []
  }
 ],
 "metadata": {
  "kernelspec": {
   "display_name": "Python 3",
   "language": "python",
   "name": "python3"
  },
  "language_info": {
   "codemirror_mode": {
    "name": "ipython",
    "version": 3
   },
   "file_extension": ".py",
   "mimetype": "text/x-python",
   "name": "python",
   "nbconvert_exporter": "python",
   "pygments_lexer": "ipython3",
   "version": "3.6.4"
  }
 },
 "nbformat": 4,
 "nbformat_minor": 2
}
